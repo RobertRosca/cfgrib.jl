{
 "cells": [
  {
   "cell_type": "markdown",
   "metadata": {},
   "source": [
    "# Introduction\n",
    "\n"
   ]
  },
  {
   "cell_type": "markdown",
   "metadata": {},
   "source": [
    "## Structure of the Project\n",
    "\n",
    "For context, the project is split into two phases:\n",
    "\n",
    "1. Direct 'translation' of the Python project to Julia\n",
    "2. More in-depth 'localisation' of the code into idiomatic Julia\n",
    "\n",
    "### 1 - Translation\n",
    "\n",
    "The goal of the first phase is to almost directly translate the code from python to julia, with the key aim being to set up the same CI tests as in the python version, and to have them pass. The main aim was to have the vast majority of the code covered by the CI. By aiming to set the CI up first any future changes to the code can be easily checked and validated.\n",
    "\n",
    "Going the other way around is much more difficult as it adds in too many changing variables, a different language, different style, different dependencies, different implementation, etc...\n",
    "\n",
    "### 2 - Localisation\n",
    "\n",
    "Now that key aspects of cfgrib have been implemented, and test coverage is up to 95%+, the second phase of 'localisation' starts.\n",
    "\n",
    "Here various changes will be made, such as utilising multiple dispatch more, adding in static type checks where necessary, various optimisations, enabling precompilation, integration with the julia ecosystem, etc...\n",
    "\n",
    "The first phase takes the longest (as I have to learn how cfgrib works and work out any kinks), but once a stable base is established iteration on that is much easier as the CI can point out mistakes and unexpected behaviours as soon as they occur."
   ]
  },
  {
   "cell_type": "markdown",
   "metadata": {},
   "source": [
    "## Julia Language\n",
    "\n",
    "A nice cheat sheet for julia can be [found here](https://juliadocs.github.io/Julia-Cheat-Sheet/), a lot of things are very similar to python, but there are some key differences like being 1 indexed instead of 0 indexed, and being column-major (fortran-like) instead of row-major (like python)\n",
    "\n",
    "Additonal learning resources are on the julialang [learning page](https://julialang.org/learning/)."
   ]
  },
  {
   "cell_type": "markdown",
   "metadata": {},
   "source": [
    "## Using These Notebooks\n",
    "\n",
    "These notebooks are basically just the raw source code copied and pasted into a Jupyter notebook. As of 21/Apr I have added some notes along the code, however I have not finished this yet.\n",
    "\n",
    "Hopefully by the time of the workshop I'll have finished annotating the rest of the code, and highlighting the differences as well as the any questions I have.\n",
    "\n",
    "It might be worth skimming through these a bit, but don't look at theem too much as they'll change a fair bit over the next week.\n",
    "\n",
    "My plan for these notebooks is to go through them during the workshop, skip any parts that are trivial, and stop at any areas where I have questions or where I'm not too sure about my implementation yet."
   ]
  }
 ],
 "metadata": {
  "file_extension": ".py",
  "kernelspec": {
   "display_name": "Julia 1.4.1",
   "language": "julia",
   "name": "julia-1.4"
  },
  "language_info": {
   "file_extension": ".jl",
   "mimetype": "application/julia",
   "name": "julia",
   "version": "1.4.1"
  },
  "mimetype": "text/x-python",
  "name": "python",
  "npconvert_exporter": "python",
  "pygments_lexer": "ipython3",
  "version": 3
 },
 "nbformat": 4,
 "nbformat_minor": 4
}
