{
 "cells": [
  {
   "cell_type": "markdown",
   "metadata": {},
   "source": [
    "# GRIB File Access\n",
    "\n",
    "GRIB files are accessed via the existing [GRIB.jl](https://github.com/weech/GRIB.jl) package, which is an interface to ecCodes.\n",
    "\n",
    "note: Julia needs to build and precompile some functions, so running imports for the first time may take a while"
   ]
  },
  {
   "cell_type": "code",
   "execution_count": null,
   "metadata": {},
   "outputs": [],
   "source": [
    "using cfgrib\n",
    "using GRIB"
   ]
  },
  {
   "cell_type": "code",
   "execution_count": null,
   "metadata": {},
   "outputs": [],
   "source": [
    "const dir_tests = abspath(joinpath(dirname(pathof(cfgrib)), \"..\", \"test\"))\n",
    "const dir_testfiles = abspath(joinpath(dir_tests, \"sample-data\"));"
   ]
  },
  {
   "cell_type": "code",
   "execution_count": null,
   "metadata": {},
   "outputs": [],
   "source": [
    "test_file = joinpath(dir_testfiles, \"era5-levels-members.grib\");"
   ]
  },
  {
   "cell_type": "markdown",
   "metadata": {},
   "source": [
    "Much like in python, you can either load a file directly and then handle closing it yourself, or you can use a context to handle that for you."
   ]
  },
  {
   "cell_type": "code",
   "execution_count": null,
   "metadata": {},
   "outputs": [],
   "source": [
    "GribFile(test_file) do file\n",
    "    println(\"'$(basename(file.filename))' has $(file.nmessages) messages\")\n",
    "end"
   ]
  },
  {
   "cell_type": "markdown",
   "metadata": {},
   "source": [
    "But for now we'll open the file directly so that we can use multiple cells in between."
   ]
  },
  {
   "cell_type": "code",
   "execution_count": null,
   "metadata": {},
   "outputs": [],
   "source": [
    "file = GribFile(test_file)  # Load it directly\n",
    "\n",
    "println(\"GRIB.jl files are of a type: $(typeof(file))\")\n",
    "println(\"And they contain the fields: $(fieldnames(typeof(file)))\")"
   ]
  },
  {
   "cell_type": "markdown",
   "metadata": {},
   "source": [
    "Unlike python, Julia isn't an object-orientated programming language, it's based on multiple dispatch instead. So if you want to see what you can do with an object, you can check which methods have it as part of their argument (or read the docs, but this is a useful function to know):"
   ]
  },
  {
   "cell_type": "code",
   "execution_count": null,
   "metadata": {},
   "outputs": [],
   "source": [
    "methodswith(typeof(file))"
   ]
  },
  {
   "cell_type": "markdown",
   "metadata": {},
   "source": [
    "For... reasons, this sometimes isn't the most complete list. You'll need to refer to the docs to see the full functionality.\n",
    "\n",
    "For example, reading a message:"
   ]
  },
  {
   "cell_type": "code",
   "execution_count": null,
   "metadata": {},
   "outputs": [],
   "source": [
    "msg = Message(file)"
   ]
  },
  {
   "cell_type": "code",
   "execution_count": null,
   "metadata": {},
   "outputs": [],
   "source": [
    "println(\"GRIB.jl messages are of a type: $(typeof(msg))\")\n",
    "println(\"And they contain the fields: $(fieldnames(typeof(msg)))\")"
   ]
  },
  {
   "cell_type": "code",
   "execution_count": null,
   "metadata": {},
   "outputs": [],
   "source": [
    "methodswith(typeof(msg))"
   ]
  },
  {
   "cell_type": "markdown",
   "metadata": {},
   "source": [
    "And as [per the docs](https://github.com/weech/GRIB.jl#gribfile) we can find all of the keys in a message with:"
   ]
  },
  {
   "cell_type": "code",
   "execution_count": null,
   "metadata": {},
   "outputs": [],
   "source": [
    "keylist = Vector{String}()\n",
    "for key in keys(msg)\n",
    "    push!(keylist, key)\n",
    "end\n",
    "\n",
    "keylist"
   ]
  },
  {
   "cell_type": "code",
   "execution_count": null,
   "metadata": {},
   "outputs": [],
   "source": [
    "lons, lats, msg_values = data(msg)"
   ]
  },
  {
   "cell_type": "code",
   "execution_count": null,
   "metadata": {},
   "outputs": [],
   "source": [
    "msg[\"values\"]"
   ]
  },
  {
   "cell_type": "code",
   "execution_count": null,
   "metadata": {},
   "outputs": [],
   "source": [
    "missingvalue(msg)"
   ]
  },
  {
   "cell_type": "code",
   "execution_count": null,
   "metadata": {},
   "outputs": [],
   "source": [
    "destroy(file)  # Close the file"
   ]
  }
 ],
 "metadata": {
  "kernelspec": {
   "display_name": "Julia 1.4.1",
   "language": "julia",
   "name": "julia-1.4"
  },
  "language_info": {
   "file_extension": ".jl",
   "mimetype": "application/julia",
   "name": "julia",
   "version": "1.4.1"
  }
 },
 "nbformat": 4,
 "nbformat_minor": 4
}
