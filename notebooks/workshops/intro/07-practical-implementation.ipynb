{
 "cells": [
  {
   "cell_type": "code",
   "execution_count": null,
   "metadata": {},
   "outputs": [],
   "source": [
    "using cfgrib\n",
    "using cfgrib: DataSet, Variable\n",
    "\n",
    "using DataStructures"
   ]
  },
  {
   "cell_type": "markdown",
   "metadata": {},
   "source": [
    "Another randomly placed note: in Julia you would typically directly export the types and functions you want to make available out of you package, however I haven't done this yet so you either have to call `cfgrib.whatever` or do `using cfgrid: whatever`."
   ]
  },
  {
   "cell_type": "code",
   "execution_count": null,
   "metadata": {},
   "outputs": [],
   "source": [
    "dir_tests = abspath(joinpath(dirname(pathof(cfgrib)), \"..\", \"test\"))\n",
    "dir_testfiles = abspath(joinpath(dir_tests, \"sample-data\"))\n",
    "test_file = joinpath(dir_testfiles, \"era5-levels-members.grib\");"
   ]
  },
  {
   "cell_type": "code",
   "execution_count": null,
   "metadata": {},
   "outputs": [],
   "source": [
    "dataset = DataSet(test_file);"
   ]
  },
  {
   "cell_type": "markdown",
   "metadata": {},
   "source": [
    "## AxisArrays"
   ]
  },
  {
   "cell_type": "code",
   "execution_count": null,
   "metadata": {},
   "outputs": [],
   "source": [
    "using Pkg\n",
    "\n",
    "if !(\"AxisArrays\" in keys(Pkg.installed()))\n",
    "    Pkg.add(\"AxisArrays\")\n",
    "end"
   ]
  },
  {
   "cell_type": "code",
   "execution_count": null,
   "metadata": {},
   "outputs": [],
   "source": [
    "using AxisArrays"
   ]
  },
  {
   "cell_type": "markdown",
   "metadata": {},
   "source": [
    "Important note: AxisArrays does not (natively) have the same notion of xarray Datasets, which makes this a bit awkward, so we create a wrapper type:"
   ]
  },
  {
   "cell_type": "code",
   "execution_count": null,
   "metadata": {},
   "outputs": [],
   "source": [
    "mutable struct AxisArrayWrapper\n",
    "    dimensions::OrderedDict\n",
    "    datasets::T where T <: NamedTuple\n",
    "    attributes::OrderedDict\n",
    "    encoding::Dict\n",
    "    \n",
    "    AxisArrayWrapper() = new() #  Allow undefined initialisation\n",
    "end"
   ]
  },
  {
   "cell_type": "markdown",
   "metadata": {},
   "source": [
    "Pretty simple, we just store the axisarrays in a named tuple. To have similar notation to xarray, we then make indexing go into the named tuple:"
   ]
  },
  {
   "cell_type": "code",
   "execution_count": null,
   "metadata": {},
   "outputs": [],
   "source": [
    "Base.getindex(obj::AxisArrayWrapper, key) = obj.datasets[key]\n",
    "Base.keys(obj::AxisArrayWrapper) = keys(obj.dataset) #  Kinda stupid as you can't access the axis"
   ]
  },
  {
   "cell_type": "markdown",
   "metadata": {},
   "source": [
    "Now to figure out how to actually build this object:"
   ]
  },
  {
   "cell_type": "code",
   "execution_count": null,
   "metadata": {},
   "outputs": [],
   "source": [
    "dataset.dimensions"
   ]
  },
  {
   "cell_type": "code",
   "execution_count": null,
   "metadata": {},
   "outputs": [],
   "source": [
    "dataset.variables"
   ]
  },
  {
   "cell_type": "markdown",
   "metadata": {},
   "source": [
    "Not sure if there's a better way to do this, here I just pick out all the multidimensional variables:"
   ]
  },
  {
   "cell_type": "code",
   "execution_count": null,
   "metadata": {},
   "outputs": [],
   "source": [
    "[size(v.data) for v in values(dataset.variables)]"
   ]
  },
  {
   "cell_type": "code",
   "execution_count": null,
   "metadata": {},
   "outputs": [],
   "source": [
    "multidimensional_idx =  (\n",
    "    [size(v.data) for v in values(dataset.variables)]\n",
    "    .|> length\n",
    "    .|> x -> x > 1)"
   ]
  },
  {
   "cell_type": "markdown",
   "metadata": {},
   "source": [
    "Another random sidenote: in python you can easily chain method calls together like `a.b().c().d()...`, in Julia you would need to do something like `d(c(b(a)))`, which is a pain to read, counting nested brackets is not fun.\n",
    "\n",
    "So, julia has a pipe operator `|>` which can be used to chain functions together, it also has an element-wise version of this with a dot in front `.|>` (nested random sidenote: dots automatically broadcast over each element in situations where it is unambiguous, e.g. `println.([1,2,3])` calls printline on each element).\n",
    "\n",
    "So above we get the size of each of the variables, pipe this into length element wise, then pipe that array of lengths element wise into an anonymous function, which returns a bitarray of variables with more than one dimension."
   ]
  },
  {
   "cell_type": "markdown",
   "metadata": {},
   "source": [
    "And assume that these are the only dimensions that we need:"
   ]
  },
  {
   "cell_type": "code",
   "execution_count": null,
   "metadata": {},
   "outputs": [],
   "source": [
    "multidimensional_keys = collect(keys(dataset.variables))[multidimensional_idx]"
   ]
  },
  {
   "cell_type": "markdown",
   "metadata": {},
   "source": [
    "Here you can pull out the dimensions we'll use to create our axis:"
   ]
  },
  {
   "cell_type": "code",
   "execution_count": null,
   "metadata": {},
   "outputs": [],
   "source": [
    "shared_dimensions = [dataset.variables[k] for k in keys(dataset.dimensions)]"
   ]
  },
  {
   "cell_type": "markdown",
   "metadata": {},
   "source": [
    "And here we define the actual axis types used by AxisArrays:"
   ]
  },
  {
   "cell_type": "code",
   "execution_count": null,
   "metadata": {},
   "outputs": [],
   "source": [
    "shared_axis = [Axis{Symbol(k)}(dataset.variables[k].data) for k in keys(dataset.dimensions)]"
   ]
  },
  {
   "cell_type": "markdown",
   "metadata": {},
   "source": [
    "Now we can test creating an AxisArray for one of the multidimensional variables:"
   ]
  },
  {
   "cell_type": "code",
   "execution_count": null,
   "metadata": {},
   "outputs": [],
   "source": [
    "AxisArray(cfgrib.convert(Array, dataset.variables[\"t\"].data), shared_axis...)"
   ]
  },
  {
   "cell_type": "markdown",
   "metadata": {},
   "source": [
    "And finally bringing it all together:"
   ]
  },
  {
   "cell_type": "code",
   "execution_count": null,
   "metadata": {},
   "outputs": [],
   "source": [
    "function convert(::Type{AxisArrayWrapper}, dataset::DataSet)\n",
    "    res = AxisArrayWrapper()\n",
    "    res.dimensions = dataset.dimensions\n",
    "    res.attributes = dataset.attributes\n",
    "    res.encoding = dataset.encoding\n",
    "    \n",
    "    multidimensional_idx =  (\n",
    "        [size(v.data) for v in values(dataset.variables)]\n",
    "        .|> length\n",
    "        .|> x -> x > 1)\n",
    "    multidimensional_keys = collect(keys(dataset.variables))[multidimensional_idx]\n",
    "    multidimensional_values = [dataset.variables[k] for k in multidimensional_keys]\n",
    "    \n",
    "    shared_dimensions = [dataset.variables[k] for k in keys(dataset.dimensions)]\n",
    "    shared_axis = [Axis{Symbol(k)}(dataset.variables[k].data) for k in keys(dataset.dimensions)]\n",
    "    \n",
    "    res.datasets = NamedTuple{Tuple(Symbol.(multidimensional_keys))}((\n",
    "        AxisArray(cfgrib.convert(Array, dataset.variables[k].data), shared_axis...)\n",
    "        for k in multidimensional_keys\n",
    "    ))\n",
    "\n",
    "    return res\n",
    "end"
   ]
  },
  {
   "cell_type": "code",
   "execution_count": null,
   "metadata": {},
   "outputs": [],
   "source": [
    "ds = convert(AxisArrayWrapper, dataset);"
   ]
  },
  {
   "cell_type": "markdown",
   "metadata": {},
   "source": [
    "If you make the mistake of removing `;` you'll see a truly horrific print output, which I haven't had time to improve. But the base functionality is here:"
   ]
  },
  {
   "cell_type": "code",
   "execution_count": null,
   "metadata": {
    "jupyter": {
     "source_hidden": true
    }
   },
   "outputs": [],
   "source": [
    "ds[:t] #  See the AcisArray\n",
    "#  This shold really have a limit in the IOContext so it prints something sensible\n",
    "#  easy fix though - https://stackoverflow.com/questions/40788316/julia-limited-printing-of-large-arrays"
   ]
  },
  {
   "cell_type": "code",
   "execution_count": null,
   "metadata": {},
   "outputs": [],
   "source": [
    "ds[:t][number = 1] #  Confusingly this is the INDEX of number, so a number value of 0"
   ]
  },
  {
   "cell_type": "code",
   "execution_count": null,
   "metadata": {},
   "outputs": [],
   "source": [
    "ds[:t][0 .. 0] #  This is the slightly odd syntax to access "
   ]
  },
  {
   "cell_type": "markdown",
   "metadata": {},
   "source": [
    "There is a lot more you can do with AxisArrays, as shown here: https://github.com/JuliaArrays/AxisArrays.jl"
   ]
  },
  {
   "cell_type": "markdown",
   "metadata": {},
   "source": [
    "## DimensionalData\n",
    "\n",
    "We can take a similar approach to create an interface for DimensionalData.jl"
   ]
  },
  {
   "cell_type": "code",
   "execution_count": null,
   "metadata": {},
   "outputs": [],
   "source": [
    "if !(\"DimensionalData\" in keys(Pkg.installed()))\n",
    "    Pkg.add(\"DimensionalData\")\n",
    "end\n",
    "\n",
    "using DimensionalData"
   ]
  },
  {
   "cell_type": "code",
   "execution_count": null,
   "metadata": {},
   "outputs": [],
   "source": [
    "multidimensional_idx =  (\n",
    "    [size(v.data) for v in values(dataset.variables)]\n",
    "    .|> length\n",
    "    .|> x -> x > 1)"
   ]
  },
  {
   "cell_type": "code",
   "execution_count": null,
   "metadata": {},
   "outputs": [],
   "source": [
    "multidimensional_keys = collect(keys(dataset.variables))[multidimensional_idx]"
   ]
  },
  {
   "cell_type": "code",
   "execution_count": null,
   "metadata": {},
   "outputs": [],
   "source": [
    "shared_dimensions = [dataset.variables[k] for k in keys(dataset.dimensions)]"
   ]
  },
  {
   "cell_type": "code",
   "execution_count": null,
   "metadata": {},
   "outputs": [],
   "source": [
    "shared_axis = [Dim{Symbol(k)}(dataset.variables[k].data) for k in keys(dataset.dimensions)]"
   ]
  },
  {
   "cell_type": "code",
   "execution_count": null,
   "metadata": {},
   "outputs": [],
   "source": [
    "DimensionalArray(cfgrib.convert(Array, dataset.variables[\"t\"].data), Tuple(shared_axis))"
   ]
  },
  {
   "cell_type": "code",
   "execution_count": null,
   "metadata": {},
   "outputs": [],
   "source": [
    "mutable struct DimensionalArrayWrapper\n",
    "    dimensions::OrderedDict\n",
    "    datasets::T where T <: NamedTuple\n",
    "    attributes::OrderedDict\n",
    "    encoding::Dict\n",
    "    \n",
    "    DimensionalArray() = new() #  Allow undefined initialisation\n",
    "end"
   ]
  },
  {
   "cell_type": "code",
   "execution_count": null,
   "metadata": {
    "jupyter": {
     "source_hidden": true
    }
   },
   "outputs": [],
   "source": [
    "function convert(::Type{DimensionalArrayWrapper}, dataset::DataSet)\n",
    "    res = AxisArrayWrapper()\n",
    "    res.dimensions = dataset.dimensions\n",
    "    res.attributes = dataset.attributes\n",
    "    res.encoding = dataset.encoding\n",
    "    \n",
    "    multidimensional_idx =  (\n",
    "        [size(v.data) for v in values(dataset.variables)]\n",
    "        .|> length\n",
    "        .|> x -> x > 1)\n",
    "    multidimensional_keys = collect(keys(dataset.variables))[multidimensional_idx]\n",
    "    multidimensional_values = [dataset.variables[k] for k in multidimensional_keys]\n",
    "    \n",
    "    shared_dimensions = [dataset.variables[k] for k in keys(dataset.dimensions)]\n",
    "    shared_axis = [Dim{Symbol(k)}(dataset.variables[k].data) for k in keys(dataset.dimensions)]\n",
    "    \n",
    "    res.datasets = NamedTuple{Tuple(Symbol.(multidimensional_keys))}((\n",
    "        DimensionalArray(cfgrib.convert(Array, dataset.variables[k].data), Tuple(shared_axis))\n",
    "        for k in multidimensional_keys\n",
    "    ))\n",
    "\n",
    "    return res\n",
    "end"
   ]
  },
  {
   "cell_type": "code",
   "execution_count": null,
   "metadata": {},
   "outputs": [],
   "source": [
    "convert(DimensionalArrayWrapper, dataset)"
   ]
  },
  {
   "cell_type": "code",
   "execution_count": null,
   "metadata": {},
   "outputs": [],
   "source": []
  }
 ],
 "metadata": {
  "kernelspec": {
   "display_name": "Julia 1.4.1",
   "language": "julia",
   "name": "julia-1.4"
  },
  "language_info": {
   "file_extension": ".jl",
   "mimetype": "application/julia",
   "name": "julia",
   "version": "1.4.1"
  }
 },
 "nbformat": 4,
 "nbformat_minor": 4
}
