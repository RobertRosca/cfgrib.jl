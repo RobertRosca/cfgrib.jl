{
 "cells": [
  {
   "cell_type": "code",
   "execution_count": 1,
   "metadata": {},
   "outputs": [
    {
     "name": "stderr",
     "output_type": "stream",
     "text": [
      "/home/roscar/environments/cfgrib-python/lib/python3.7/site-packages/xarray/core/merge.py:17: FutureWarning: The Panel class is removed from pandas. Accessing it from the top-level namespace will also be removed in the next version\n",
      "  PANDAS_TYPES = (pd.Series, pd.DataFrame, pd.Panel)\n"
     ]
    }
   ],
   "source": [
    "import cfgrib"
   ]
  },
  {
   "cell_type": "markdown",
   "metadata": {},
   "source": [
    "# Key Functions\n",
    "\n",
    "cfgrib.open_file:\n",
    " - open_fileindex\n",
    " - build_dataset_components"
   ]
  },
  {
   "cell_type": "code",
   "execution_count": 5,
   "metadata": {},
   "outputs": [
    {
     "data": {
      "text/plain": [
       "Dataset(dimensions=OrderedDict([('number', 10), ('time', 4), ('isobaricInhPa', 2), ('latitude', 61), ('longitude', 120)]), variables=OrderedDict([('number', Variable(dimensions=('number',), data=array([0, 1, 2, 3, 4, 5, 6, 7, 8, 9]))), ('time', Variable(dimensions=('time',), data=array([1483228800, 1483272000, 1483315200, 1483358400]))), ('step', Variable(dimensions=(), data=0.0)), ('isobaricInhPa', Variable(dimensions=('isobaricInhPa',), data=array([850, 500]))), ('latitude', Variable(dimensions=('latitude',), data=array([ 90.,  87.,  84.,  81.,  78.,  75.,  72.,  69.,  66.,  63.,  60.,\n",
       "        57.,  54.,  51.,  48.,  45.,  42.,  39.,  36.,  33.,  30.,  27.,\n",
       "        24.,  21.,  18.,  15.,  12.,   9.,   6.,   3.,   0.,  -3.,  -6.,\n",
       "        -9., -12., -15., -18., -21., -24., -27., -30., -33., -36., -39.,\n",
       "       -42., -45., -48., -51., -54., -57., -60., -63., -66., -69., -72.,\n",
       "       -75., -78., -81., -84., -87., -90.]))), ('longitude', Variable(dimensions=('longitude',), data=array([  0.,   3.,   6.,   9.,  12.,  15.,  18.,  21.,  24.,  27.,  30.,\n",
       "        33.,  36.,  39.,  42.,  45.,  48.,  51.,  54.,  57.,  60.,  63.,\n",
       "        66.,  69.,  72.,  75.,  78.,  81.,  84.,  87.,  90.,  93.,  96.,\n",
       "        99., 102., 105., 108., 111., 114., 117., 120., 123., 126., 129.,\n",
       "       132., 135., 138., 141., 144., 147., 150., 153., 156., 159., 162.,\n",
       "       165., 168., 171., 174., 177., 180., 183., 186., 189., 192., 195.,\n",
       "       198., 201., 204., 207., 210., 213., 216., 219., 222., 225., 228.,\n",
       "       231., 234., 237., 240., 243., 246., 249., 252., 255., 258., 261.,\n",
       "       264., 267., 270., 273., 276., 279., 282., 285., 288., 291., 294.,\n",
       "       297., 300., 303., 306., 309., 312., 315., 318., 321., 324., 327.,\n",
       "       330., 333., 336., 339., 342., 345., 348., 351., 354., 357.]))), ('valid_time', Variable(dimensions=('time',), data=array([1.4832288e+09, 1.4832720e+09, 1.4833152e+09, 1.4833584e+09]))), ('z', Variable(dimensions=('number', 'time', 'isobaricInhPa', 'latitude', 'longitude'), data=OnDiskArray(stream=FileStream(path='/home/roscar/work/cfgrib-project/cfgrib.jl/tests/sample-data/era5-levels-members.grib', errors='warn', product_kind=0), shape=(10, 4, 2, 61, 120), missing_value=9999))), ('t', Variable(dimensions=('number', 'time', 'isobaricInhPa', 'latitude', 'longitude'), data=OnDiskArray(stream=FileStream(path='/home/roscar/work/cfgrib-project/cfgrib.jl/tests/sample-data/era5-levels-members.grib', errors='warn', product_kind=0), shape=(10, 4, 2, 61, 120), missing_value=9999)))]), attributes=OrderedDict([('GRIB_edition', 1), ('GRIB_centre', 'ecmf'), ('GRIB_centreDescription', 'European Centre for Medium-Range Weather Forecasts'), ('GRIB_subCentre', 0), ('Conventions', 'CF-1.7'), ('institution', 'European Centre for Medium-Range Weather Forecasts'), ('history', '2020-03-01T12:51:26 GRIB to CDM+CF via cfgrib-0.9.7.3/ecCodes-2.13.1 with {\"source\": \"/home/roscar/work/cfgrib-project/cfgrib.jl/tests/sample-data/era5-levels-members.grib\", \"filter_by_keys\": {}, \"encode_cf\": [\"parameter\", \"time\", \"geography\", \"vertical\"]}')]), encoding={'source': '/home/roscar/work/cfgrib-project/cfgrib.jl/tests/sample-data/era5-levels-members.grib', 'filter_by_keys': {}, 'encode_cf': ('parameter', 'time', 'geography', 'vertical')})"
      ]
     },
     "execution_count": 5,
     "metadata": {},
     "output_type": "execute_result"
    }
   ],
   "source": [
    "cfgrib.open_file(\"/home/roscar/work/cfgrib-project/cfgrib.jl/tests/sample-data/era5-levels-members.grib\")"
   ]
  },
  {
   "cell_type": "code",
   "execution_count": null,
   "metadata": {},
   "outputs": [],
   "source": []
  }
 ],
 "metadata": {
  "kernelspec": {
   "display_name": "Python 3",
   "language": "python",
   "name": "python3"
  },
  "language_info": {
   "codemirror_mode": {
    "name": "ipython",
    "version": 3
   },
   "file_extension": ".py",
   "mimetype": "text/x-python",
   "name": "python",
   "nbconvert_exporter": "python",
   "pygments_lexer": "ipython3",
   "version": "3.7.4"
  }
 },
 "nbformat": 4,
 "nbformat_minor": 4
}
