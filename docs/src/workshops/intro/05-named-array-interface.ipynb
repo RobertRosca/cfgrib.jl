{
 "cells": [
  {
   "cell_type": "markdown",
   "metadata": {},
   "source": [
    "# Named Array Interface"
   ]
  },
  {
   "cell_type": "markdown",
   "metadata": {},
   "source": [
    "So far we have only created a way to load in the data as an array, with the associated names for the dimentions, but we do not have any way to access the data with the names of the dimensions like in xarray.\n",
    "\n",
    "A huge drawback of using Julia is that it is extremely young, so it's not really possible to just pick the most popular package similar to xarray and build on top of that. There are currently a lot of packages which provide (most of) the functionality we require:\n",
    "\n",
    "- https://github.com/ITensor/ITensors.jl\n",
    "- https://github.com/JuliaArrays/AxisArrays.jl\n",
    "- https://github.com/davidavdav/NamedArrays.jl\n",
    "- https://github.com/SciML/LabelledArrays.jl\n",
    "- https://github.com/rafaqz/DimensionalData.jl\n",
    "- https://github.com/invenia/NamedDims.jl\n",
    "\n",
    "And more...\n",
    "\n",
    "The first part of this project involved a [feasibility study](https://github.com/RobertRosca/cfgrib-notes/blob/master/191215-02-proposal.ipynb) where I picked what seemed to be the most suitable option for the initial implementation, and in the end I settled on `AxisArrays.jl` as the best option. However this needs to be very flexible in case other implementations 'win out' in the long run, or in case it ends up that a different implementation works better for different tasks."
   ]
  },
  {
   "cell_type": "markdown",
   "metadata": {},
   "source": [
    "## Activating a Backend"
   ]
  },
  {
   "cell_type": "markdown",
   "metadata": {},
   "source": [
    "### Plots.jl Approach\n",
    "\n",
    "This is a common probjem in Julia, and a few packages provide a unified interface to multiple backends. The best example of this is Plots.jl, which itself is not really a plotting library, it is more of an abstraction over existing plotting backends.\n",
    "\n",
    "For example, plots would be used by:\n",
    "\n",
    "```\n",
    "using Plots\n",
    "gr()\n",
    "\n",
    "x = 1:10; y = rand(10, 2) # 2 columns means two lines\n",
    "plot(x, y, title = \"Two Lines\", label = [\"Line 1\" \"Line 2\"], lw = 3)\n",
    "\n",
    "plot(x, y, seriestype = :scatter, title = \"My Scatter Plot\")\n",
    "\n",
    "p1 = plot(x, y) # Make a line plot\n",
    "p2 = scatter(x, y) # Make a scatter plot\n",
    "p3 = plot(x, y, xlabel = \"This one is labelled\", lw = 3, title = \"Subtitle\")\n",
    "p4 = histogram(x, y) # Four histograms each with 10 points? Why not!\n",
    "plot(p1, p2, p3, p4, layout = (2, 2), legend = false)\n",
    "\n",
    "# etc...\n",
    "```\n",
    "\n",
    "The above would use the GR framework backend to create the plots, as `gr()` was called after the plotting module was imported. If you change the line from `gr()` to `plotly()`, the same functions would run and produce the equivalent plots with plotly, same if you use `pyplot()`.\n",
    "\n",
    "This is a very neat approach, as one single line allows you to completely chang the backend for the rest of the code. For plotting this is very useful as you may want to use an interactive plotting backend, like plotly, when exploring the data initially, but then change to a more performance-orientated backend, like GR, for the final product or when running headless.\n",
    "\n",
    "It's not clear to me if this much flexibility would be needed, and creating this might add a lot of really unecessary abstraction overhead. Such an implementation is not [that complex if you are faimiliar with julia](https://github.com/JuliaPlots/Plots.jl/blob/master/src/backends.jl) but it does rely on some advanced julia metaprogramming concepts, which would be quite offputting to newcommers."
   ]
  },
  {
   "cell_type": "markdown",
   "metadata": {},
   "source": [
    "### `Convert` Approach\n",
    "\n",
    "Julia has a standardised approach to conversion and type promotion, [from the docs](https://docs.julialang.org/en/v1/manual/conversion-and-promotion/):\n",
    "\n",
    "```\n",
    "julia> x = 12\n",
    "12\n",
    "\n",
    "julia> typeof(x)\n",
    "Int64\n",
    "\n",
    "julia> convert(UInt8, x)\n",
    "0x0c\n",
    "\n",
    "julia> typeof(ans)\n",
    "UInt8\n",
    "\n",
    "julia> convert(AbstractFloat, x)\n",
    "12.0\n",
    "\n",
    "julia> typeof(ans)\n",
    "Float64\n",
    "\n",
    "julia> a = Any[1 2 3; 4 5 6]\n",
    "2×3 Array{Any,2}:\n",
    " 1  2  3\n",
    " 4  5  6\n",
    "\n",
    "julia> convert(Array{Float64}, a)\n",
    "2×3 Array{Float64,2}:\n",
    " 1.0  2.0  3.0\n",
    " 4.0  5.0  6.0\n",
    " ```\n",
    " \n",
    "The following automatically calls convert:\n",
    " \n",
    "- Assigning to an array converts to the array's element type.\n",
    "- Assigning to a field of an object converts to the declared type of the field.\n",
    "- Constructing an object with new converts to the object's declared field types.\n",
    "- Assigning to a variable with a declared type (e.g. local x::T) converts to that type.\n",
    "- A function with a declared return type converts its return value to that type.\n",
    "- Passing a value to ccall converts it to the corresponding argument type.\n",
    "\n",
    "So, we can define a function `convert(::AxisArray, x::cfgrib.DataSet)` which would then automatically convert our type to the desired type where required.\n",
    "\n",
    "This means that, at least in theory, if somebody has code which expects an input type of `AxisArray`, it would automatically accept that type. For example:"
   ]
  },
  {
   "cell_type": "code",
   "execution_count": null,
   "metadata": {},
   "outputs": [],
   "source": [
    "struct DS # DataSet equivalent, dimension names and arrays not linked\n",
    "    a::Int\n",
    "    b::Int\n",
    "end"
   ]
  },
  {
   "cell_type": "code",
   "execution_count": null,
   "metadata": {},
   "outputs": [],
   "source": [
    "struct AA # AxisArray, like xarray\n",
    "    c::Int\n",
    "end\n",
    "\n",
    "Base.convert(::Type{AA}, x::DS) = AA(x.a + x.b)"
   ]
  },
  {
   "cell_type": "code",
   "execution_count": null,
   "metadata": {},
   "outputs": [],
   "source": [
    "struct NA # NamedArray, like xarray\n",
    "    d::Int\n",
    "end\n",
    "\n",
    "Base.convert(::Type{NA}, x::DS) = NA(x.a + x.b)"
   ]
  },
  {
   "cell_type": "code",
   "execution_count": null,
   "metadata": {},
   "outputs": [],
   "source": [
    "ds = DS(1, 2) # DataSet"
   ]
  },
  {
   "cell_type": "code",
   "execution_count": null,
   "metadata": {},
   "outputs": [],
   "source": [
    "struct OtherPackage # Somebody elses package\n",
    "    e::AA # They expect an AxisArray type\n",
    "end"
   ]
  },
  {
   "cell_type": "code",
   "execution_count": null,
   "metadata": {},
   "outputs": [],
   "source": [
    "OtherPackage(ds) # They pass OUR DataSet into THEIR type, and it gets converted automatically"
   ]
  },
  {
   "cell_type": "markdown",
   "metadata": {},
   "source": [
    "This automatic type conversion is really nice and extremely useful for facilitating interoperability between packages, however this feature is more for developers.\n",
    "\n",
    "The user side of this would be just directly calling convert:"
   ]
  },
  {
   "cell_type": "code",
   "execution_count": null,
   "metadata": {},
   "outputs": [],
   "source": [
    "na_with_convert = convert(NA, ds)"
   ]
  },
  {
   "cell_type": "markdown",
   "metadata": {},
   "source": [
    "Or, a bit more user friendly, using the type you'd like to convert to as a funtction::"
   ]
  },
  {
   "cell_type": "code",
   "execution_count": null,
   "metadata": {},
   "outputs": [],
   "source": [
    "NA(x::DS) = convert(NA, x)"
   ]
  },
  {
   "cell_type": "code",
   "execution_count": null,
   "metadata": {},
   "outputs": [],
   "source": [
    "na_direct_call = NA(ds)"
   ]
  },
  {
   "cell_type": "markdown",
   "metadata": {},
   "source": [
    "So in the end the users would do something like:\n",
    "\n",
    "```\n",
    "dataset = DataSet(path, read_keys, filter, etc...)\n",
    "\n",
    "data = convert(AxisArray, dataset)\n",
    "\n",
    "data = AxisArray(dataset)\n",
    "```"
   ]
  }
 ],
 "metadata": {
  "kernelspec": {
   "display_name": "Julia 1.4.1",
   "language": "julia",
   "name": "julia-1.4"
  },
  "language_info": {
   "file_extension": ".jl",
   "mimetype": "application/julia",
   "name": "julia",
   "version": "1.4.1"
  }
 },
 "nbformat": 4,
 "nbformat_minor": 4
}
