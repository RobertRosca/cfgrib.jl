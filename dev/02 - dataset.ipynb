{
 "cells": [
  {
   "cell_type": "code",
   "execution_count": 1,
   "metadata": {},
   "outputs": [
    {
     "name": "stdout",
     "output_type": "stream",
     "text": [
      "\u001b[32m\u001b[1mActivating\u001b[22m\u001b[39m environment at `~/work/cfgrib-project/cfgrib.jl/Project.toml`\n"
     ]
    }
   ],
   "source": [
    "using Pkg; Pkg.activate(\"/home/roscar/work/cfgrib-project/cfgrib.jl\")"
   ]
  },
  {
   "cell_type": "code",
   "execution_count": 2,
   "metadata": {},
   "outputs": [
    {
     "name": "stderr",
     "output_type": "stream",
     "text": [
      "┌ Info: Precompiling cfgrib [cb67cb4b-e5c8-45d4-aff0-3ae3657ca610]\n",
      "└ @ Base loading.jl:1273\n"
     ]
    }
   ],
   "source": [
    "using cfgrib"
   ]
  },
  {
   "cell_type": "code",
   "execution_count": 3,
   "metadata": {},
   "outputs": [
    {
     "data": {
      "text/plain": [
       "\"/home/roscar/work/cfgrib-project/cfgrib.jl/tests/sample-data/era5-levels-members.grib\""
      ]
     },
     "execution_count": 3,
     "metadata": {},
     "output_type": "execute_result"
    }
   ],
   "source": [
    "path = \"/home/roscar/work/cfgrib-project/cfgrib.jl/tests/sample-data/era5-levels-members.grib\""
   ]
  },
  {
   "cell_type": "code",
   "execution_count": 4,
   "metadata": {},
   "outputs": [
    {
     "name": "stderr",
     "output_type": "stream",
     "text": [
      "WARNING: using DataStructures.path in module Main conflicts with an existing identifier.\n"
     ]
    }
   ],
   "source": [
    "using DataStructures"
   ]
  },
  {
   "cell_type": "code",
   "execution_count": 5,
   "metadata": {},
   "outputs": [],
   "source": [
    "using GRIB"
   ]
  },
  {
   "cell_type": "markdown",
   "metadata": {},
   "source": [
    "## Types"
   ]
  },
  {
   "cell_type": "code",
   "execution_count": 13,
   "metadata": {},
   "outputs": [],
   "source": [
    "struct OnDiskArray\n",
    "    grib_path::String\n",
    "    size::Tuple # TODO: rename -> shape\n",
    "    offsets::OrderedDict\n",
    "    missing_value::Any\n",
    "    geo_ndim::Int\n",
    "    dtype::Type\n",
    "end\n",
    "\n",
    "Base.size(a::OnDiskArray) = a.size # TODO: rename -> shape"
   ]
  },
  {
   "cell_type": "code",
   "execution_count": 14,
   "metadata": {},
   "outputs": [],
   "source": [
    "struct Variable\n",
    "    dimensions::Tuple{Vararg{String}}\n",
    "    data::Union{Array, OnDiskArray}\n",
    "    attributes::Dict{String, Any}\n",
    "end"
   ]
  },
  {
   "cell_type": "code",
   "execution_count": 15,
   "metadata": {},
   "outputs": [
    {
     "data": {
      "text/plain": [
       "false"
      ]
     },
     "execution_count": 15,
     "metadata": {},
     "output_type": "execute_result"
    }
   ],
   "source": [
    "Variable((\"1\", ), [1,2], Dict(\"A\"=>\"b\")) == Variable((\"1\", ), [1,2], Dict(\"A\"=>\"b\"))"
   ]
  },
  {
   "cell_type": "markdown",
   "metadata": {},
   "source": [
    "## build_dataset_components"
   ]
  },
  {
   "cell_type": "code",
   "execution_count": 16,
   "metadata": {},
   "outputs": [
    {
     "name": "stdout",
     "output_type": "stream",
     "text": [
      "original GRIB coordinate for key:arstarst\n"
     ]
    }
   ],
   "source": [
    "a = \"original GRIB coordinate for key:\" *\n",
    "     \"arstarst\"\n",
    "println(a)"
   ]
  },
  {
   "cell_type": "code",
   "execution_count": 17,
   "metadata": {},
   "outputs": [],
   "source": [
    "#      Args\n",
    "index = cfgrib.FileIndex(path, cfgrib.ALL_KEYS)\n",
    "read_keys = []\n",
    "kwargs = Dict()\n",
    "#      Default\n",
    "errors = \"warn\"\n",
    "encode_cf = (\"parameter\", \"time\", \"geography\", \"vertical\")\n",
    "squeeze = true\n",
    "log = missing\n",
    "LOG=log\n",
    "# read_keys\n",
    "time_dims = (\"time\", \"step\");"
   ]
  },
  {
   "cell_type": "code",
   "execution_count": 18,
   "metadata": {},
   "outputs": [
    {
     "data": {
      "text/plain": [
       "cfgrib.FileIndex"
      ]
     },
     "execution_count": 18,
     "metadata": {},
     "output_type": "execute_result"
    }
   ],
   "source": [
    "typeof(index)"
   ]
  },
  {
   "cell_type": "code",
   "execution_count": 19,
   "metadata": {},
   "outputs": [
    {
     "data": {
      "text/plain": [
       "59-element Array{Array,1}:\n",
       " Missing[missing]                                \n",
       " Missing[missing]                                \n",
       " Missing[missing]                                \n",
       " Missing[missing]                                \n",
       " Missing[missing]                                \n",
       " Missing[missing]                                \n",
       " Missing[missing]                                \n",
       " Missing[missing]                                \n",
       " Missing[missing]                                \n",
       " Missing[missing]                                \n",
       " [0]                                             \n",
       " [120]                                           \n",
       " [61]                                            \n",
       " ⋮                                               \n",
       " Missing[missing]                                \n",
       " SubString{String}[\"z\", \"t\"]                     \n",
       " [0]                                             \n",
       " SubString{String}[\"instant\"]                    \n",
       " [1]                                             \n",
       " [0]                                             \n",
       " [1483228800, 1483272000, 1483315200, 1483358400]\n",
       " [10]                                            \n",
       " SubString{String}[\"isobaricInhPa\"]              \n",
       " SubString{String}[\"m**2 s**-2\", \"K\"]            \n",
       " Missing[missing]                                \n",
       " Missing[missing]                                "
      ]
     },
     "execution_count": 19,
     "metadata": {},
     "output_type": "execute_result"
    }
   ],
   "source": [
    "collect(values(index.header_values))"
   ]
  },
  {
   "cell_type": "code",
   "execution_count": 20,
   "metadata": {},
   "outputs": [
    {
     "data": {
      "text/plain": [
       "(:allowed_protocol_version, :grib_path, :index_path, :index_keys, :offsets, :message_lengths, :header_values, :filter_by_keys)"
      ]
     },
     "execution_count": 20,
     "metadata": {},
     "output_type": "execute_result"
    }
   ],
   "source": [
    "fieldnames(cfgrib.FileIndex)"
   ]
  },
  {
   "cell_type": "code",
   "execution_count": 21,
   "metadata": {},
   "outputs": [],
   "source": [
    "dimensions = OrderedDict()\n",
    "variables = OrderedDict()\n",
    "filter_by_keys = isdefined(index, :filter_by_keys) ? index.filter_by_keys : Dict();"
   ]
  },
  {
   "cell_type": "code",
   "execution_count": 29,
   "metadata": {},
   "outputs": [
    {
     "data": {
      "text/plain": [
       "130"
      ]
     },
     "execution_count": 29,
     "metadata": {},
     "output_type": "execute_result"
    }
   ],
   "source": [
    "#  THIS SHOULD BE A FOR LOOP\n",
    "# param_id = index[\"paramId\"][1]\n",
    "param_id = index[\"paramId\"][2]"
   ]
  },
  {
   "cell_type": "code",
   "execution_count": 30,
   "metadata": {},
   "outputs": [],
   "source": [
    "var_index = cfgrib.filter(index, paramId=param_id);"
   ]
  },
  {
   "cell_type": "markdown",
   "metadata": {},
   "source": [
    "## build_variable_components\n",
    "\n",
    "https://github.com/ecmwf/cfgrib/blob/2f50a1ec0331be5ed7476aa4a0bf66fb2e388652/cfgrib/dataset.py#L433"
   ]
  },
  {
   "cell_type": "markdown",
   "metadata": {},
   "source": [
    "### enforce_unique_attributes"
   ]
  },
  {
   "cell_type": "code",
   "execution_count": 31,
   "metadata": {},
   "outputs": [
    {
     "data": {
      "text/plain": [
       "enforce_unique_attributes (generic function with 1 method)"
      ]
     },
     "execution_count": 31,
     "metadata": {},
     "output_type": "execute_result"
    }
   ],
   "source": [
    "function enforce_unique_attributes(index::cfgrib.FileIndex, attribute_keys::Array, filter_by_keys::Dict)\n",
    "    attributes = OrderedDict()\n",
    "    for key in attribute_keys\n",
    "        values = index[key]\n",
    "\n",
    "        if length(values) > 1\n",
    "            throw(\"Attributes are not unique for $key: $(values)\")\n",
    "        end\n",
    "\n",
    "        value = values[1]\n",
    "\n",
    "        if !ismissing(value)\n",
    "            attributes[\"GRIB_\" * key] = value\n",
    "        end\n",
    "    end\n",
    "\n",
    "    return attributes\n",
    "end\n"
   ]
  },
  {
   "cell_type": "markdown",
   "metadata": {},
   "source": [
    "### encode_cf_first"
   ]
  },
  {
   "cell_type": "code",
   "execution_count": 32,
   "metadata": {},
   "outputs": [
    {
     "data": {
      "text/plain": [
       "encode_cf_first (generic function with 3 methods)"
      ]
     },
     "execution_count": 32,
     "metadata": {},
     "output_type": "execute_result"
    }
   ],
   "source": [
    "function encode_cf_first(data_var_attrs::OrderedDict, encode_cf::Tuple{Vararg{String}}=(\"parameter\", \"time\"), time_dims::Tuple{Vararg{String}}=(\"time\", \"step\"))\n",
    "    coords_map = cfgrib.ENSEMBLE_KEYS\n",
    "    param_id = get(data_var_attrs, \"GRIB_paramId\", missing)\n",
    "    data_var_attrs[\"long_name\"] = \"original GRIB paramId: $(param_id)\"\n",
    "    data_var_attrs[\"units\"] = \"1\"\n",
    "\n",
    "    if \"parameter\" in encode_cf\n",
    "        if haskey(data_var_attrs, \"GRIB_paramId\")\n",
    "            data_var_attrs[\"standard_name\"] = data_var_attrs[\"GRIB_cfName\"]\n",
    "        end\n",
    "\n",
    "        if haskey(data_var_attrs, \"GRIB_name\")\n",
    "            data_var_attrs[\"long_name\"] = data_var_attrs[\"GRIB_name\"]\n",
    "        end\n",
    "\n",
    "        if haskey(data_var_attrs, \"GRIB_units\")\n",
    "            data_var_attrs[\"units\"] = data_var_attrs[\"GRIB_units\"]\n",
    "        end\n",
    "    end\n",
    "    \n",
    "    if \"time\" in encode_cf\n",
    "        if issubset(time_dims, cfgrib.ALL_REF_TIME_KEYS)\n",
    "            append!(coords_map, time_dims)\n",
    "        else\n",
    "            throw(\"time_dims $(time_dims) is not a subset of $(cfgrib.ALL_REF_TIME_KEYS)\")\n",
    "        end\n",
    "    else\n",
    "        append!(coords_map, cfgrib.DATA_TIME_KEYS)\n",
    "    end\n",
    "    \n",
    "    append!(coords_map, cfgrib.VERTICAL_KEYS)\n",
    "    append!(coords_map, cfgrib.SPECTRA_KEYS)\n",
    "    \n",
    "    return coords_map\n",
    "end"
   ]
  },
  {
   "cell_type": "code",
   "execution_count": 37,
   "metadata": {},
   "outputs": [
    {
     "data": {
      "text/plain": [
       "build_geography_coordinates (generic function with 2 methods)"
      ]
     },
     "execution_count": 37,
     "metadata": {},
     "output_type": "execute_result"
    }
   ],
   "source": [
    "function build_geography_coordinates(\n",
    "        index, encode_cf, errors, log=LOG\n",
    "    )\n",
    "    \n",
    "    first_message = cfgrib.first(var_index)\n",
    "    geo_coord_vars = OrderedDict()\n",
    "    grid_type = cfgrib.getone(index, \"gridType\")\n",
    "    \n",
    "    if \"geography\" in encode_cf && grid_type in cfgrib.GRID_TYPES_DIMENSION_COORDS\n",
    "        geo_dims = (\"latitude\", \"longitude\")\n",
    "        geo_shape = (cfgrib.getone(index, \"Ny\"), cfgrib.getone(index, \"Nx\"))\n",
    "        latitudes = first_message[\"distinctLatitudes\"]\n",
    "        geo_coord_vars[\"latitude\"] = Variable(\n",
    "            (\"latitude\",), latitudes, cfgrib.COORD_ATTRS[\"latitude\"]\n",
    "        )\n",
    "        \n",
    "        if latitudes[1] > latitudes[end]\n",
    "            geo_coord_vars[\"latitude\"].attributes[\"stored_direction\"] = \"decreasing\"\n",
    "        end\n",
    "\n",
    "        geo_coord_vars[\"longitude\"] = Variable(\n",
    "            (\"longitude\",),\n",
    "            first_message[\"distinctLongitudes\"],\n",
    "            cfgrib.COORD_ATTRS[\"longitude\"],\n",
    "        )\n",
    "    elseif \"geography\" in encode_cf && grid_type in cfgrib.GRID_TYPES_2D_NON_DIMENSION_COORDS\n",
    "        throw(\"unimplemented\")\n",
    "    else\n",
    "        throw(\"unimplemented\")\n",
    "    end\n",
    "    \n",
    "    return geo_dims, geo_shape, geo_coord_vars\n",
    "end"
   ]
  },
  {
   "cell_type": "code",
   "execution_count": 38,
   "metadata": {},
   "outputs": [
    {
     "data": {
      "text/plain": [
       "((\"latitude\", \"longitude\"), (61, 120), OrderedDict{Any,Any}(\"latitude\" => Variable((\"latitude\",), [90.0, 87.0, 84.0, 81.0, 78.0, 75.0, 72.0, 69.0, 66.0, 63.0  …  -63.0, -66.0, -69.0, -72.0, -75.0, -78.0, -81.0, -84.0, -87.0, -90.0], Dict{String,Any}(\"units\" => \"degrees_north\",\"stored_direction\" => \"decreasing\",\"long_name\" => \"latitude\",\"standard_name\" => \"latitude\")),\"longitude\" => Variable((\"longitude\",), [0.0, 3.0, 6.0, 9.0, 12.0, 15.0, 18.0, 21.0, 24.0, 27.0  …  330.0, 333.0, 336.0, 339.0, 342.0, 345.0, 348.0, 351.0, 354.0, 357.0], Dict{String,Any}(\"units\" => \"degrees_east\",\"long_name\" => \"longitude\",\"standard_name\" => \"longitude\"))))"
      ]
     },
     "execution_count": 38,
     "metadata": {},
     "output_type": "execute_result"
    }
   ],
   "source": [
    "build_geography_coordinates(var_index, encode_cf, errors, log)"
   ]
  },
  {
   "cell_type": "code",
   "execution_count": 36,
   "metadata": {},
   "outputs": [
    {
     "data": {
      "text/plain": [
       "build_valid_time (generic function with 1 method)"
      ]
     },
     "execution_count": 36,
     "metadata": {},
     "output_type": "execute_result"
    }
   ],
   "source": [
    "function build_valid_time(time::Array{Int, 1}, step::Number)\n",
    "    step_s = step * 3600\n",
    "\n",
    "    if length(size(time)) == 0 && length(size(step)) == 0\n",
    "        data = time .+ step_s\n",
    "        dims = Tuple{String}((\"\", ))\n",
    "    elseif length(size(time)) > 0 && length(size(step)) == 0\n",
    "        data = time .+ step_s\n",
    "        dims = (\"time\", )\n",
    "    elseif length(size(time)) == 0 && length(size(step)) > 0\n",
    "        data = time .+ step_s\n",
    "        dims = (\"step\", )\n",
    "    else\n",
    "        data = time .+ step_s\n",
    "        dims = (\"time\", \"step\")\n",
    "    end\n",
    "\n",
    "    return dims, data\n",
    "end"
   ]
  },
  {
   "cell_type": "code",
   "execution_count": null,
   "metadata": {},
   "outputs": [],
   "source": [
    "function build_valid_time(time::Array{Int, 1}, step::Array)\n",
    "    @assert length(step) == 1\n",
    "    return build_valid_time(time, step[1])\n",
    "end"
   ]
  },
  {
   "cell_type": "code",
   "execution_count": 30,
   "metadata": {},
   "outputs": [
    {
     "data": {
      "text/plain": [
       "((\"time\",), [1.4832288e9, 1.483272e9, 1.4833152e9, 1.4833584e9])"
      ]
     },
     "execution_count": 30,
     "metadata": {},
     "output_type": "execute_result"
    }
   ],
   "source": [
    "build_valid_time([1483228800, 1483272000, 1483315200, 1483358400], 0.0)"
   ]
  },
  {
   "cell_type": "code",
   "execution_count": 184,
   "metadata": {},
   "outputs": [
    {
     "data": {
      "text/plain": [
       "build_variable_components (generic function with 8 methods)"
      ]
     },
     "execution_count": 184,
     "metadata": {},
     "output_type": "execute_result"
    }
   ],
   "source": [
    "function build_variable_components(index, encode_cf=(), filter_by_keys=Dict(), log=LOG, errors=\"warn\", squeeze=true, read_keys=[], time_dims=(\"time\", \"step\"))\n",
    "    data_var_attrs_keys = cfgrib.DATA_ATTRIBUTES_KEYS\n",
    "    data_var_attrs_keys = [data_var_attrs_keys; get(cfgrib.GRID_TYPE_MAP, index[\"gridType\"][1], [])]\n",
    "    data_var_attrs_keys = [data_var_attrs_keys; read_keys]\n",
    "\n",
    "    data_var_attrs = enforce_unique_attributes(var_index, data_var_attrs_keys, filter_by_keys)\n",
    "\n",
    "    coords_map = encode_cf_first(data_var_attrs, encode_cf, time_dims)\n",
    "\n",
    "    coord_name_key_map = Dict()\n",
    "    coord_vars = OrderedDict()\n",
    "\n",
    "    for coord_key in coords_map\n",
    "        values = index[coord_key]\n",
    "        if length(values) == 1 && ismissing(values[1])\n",
    "            #  TODO: Add logging\n",
    "            #  @warn \"Missing from GRIB Stream $(coord_key)\"\n",
    "            continue\n",
    "        end\n",
    "        \n",
    "        coord_name = coord_key\n",
    "\n",
    "        if (\"vertical\" in encode_cf && coord_key == \"level\" && haskey(data_var_attrs, \"GRIB_typeOfLevel\"))\n",
    "            coord_name = data_var_attrs[\"GRIB_typeOfLevel\"]\n",
    "            coord_name_key_map[coord_name] = coord_key\n",
    "        end\n",
    "        \n",
    "        attributes = Dict(\n",
    "            \"long_name\" => \"original GRIB coordinate for key: $(coord_key)($(coord_name))\",\n",
    "            \"units\"     => \"1\",\n",
    "        )\n",
    "        \n",
    "        merge!(attributes, copy(get(cfgrib.COORD_ATTRS, coord_name, Dict())))\n",
    "        \n",
    "        data = sort(values, rev=get(attributes, \"stored_direction\", \"none\") == \"decreasing\")\n",
    "        dimensions = (coord_name, )\n",
    "        \n",
    "        if squeeze && length(values) == 1\n",
    "            data = data[1]\n",
    "            typeof(data) == Array ? nothing : data = [data]\n",
    "            dimensions = ()\n",
    "        end\n",
    "        \n",
    "        coord_vars[coord_name] = Variable(dimensions, data, attributes)\n",
    "    end\n",
    "    \n",
    "    header_dimensions = Tuple(d for (d, c) in pairs(coord_vars) if !squeeze || length(c.data) > 1)\n",
    "    #  Loses information on which shape belongs to which dimension\n",
    "    #  doesn't seem to matter though\n",
    "    header_shape = Iterators.flatten(\n",
    "        Tuple(size(coord_vars[d].data) for d in header_dimensions)\n",
    "    )\n",
    "    \n",
    "    geo_dims, geo_shape, geo_coord_vars = build_geography_coordinates(index, encode_cf, errors)\n",
    "    \n",
    "    dimensions = (header_dimensions..., geo_dims...)\n",
    "    shape = (header_shape..., geo_shape...)\n",
    "    \n",
    "    merge!(coord_vars, geo_coord_vars)\n",
    "    \n",
    "    offsets = OrderedDict{NTuple{length(header_dimensions), Int64}, Int}()\n",
    "    for (header_values, offset) in var_index.offsets\n",
    "        header_indexes = Array{Int}(undef, length(header_dimensions))\n",
    "        for (i, dim) in enumerate(header_dimensions)\n",
    "            coord_name = get(coord_name_key_map, dim, dim)\n",
    "            coord_idx = findfirst(var_index.index_keys .== coord_name)\n",
    "            header_value = header_values[coord_idx]\n",
    "            header_indexes[i] = findfirst(coord_vars[dim].data .== header_value)\n",
    "        end\n",
    "        \n",
    "        offsets[Tuple(header_indexes)] = offset\n",
    "    end\n",
    "    \n",
    "    data = OnDiskArray(\n",
    "        path,\n",
    "        shape,\n",
    "        offsets,\n",
    "        missing,\n",
    "        length(geo_dims),\n",
    "        Float32\n",
    "    )\n",
    "    \n",
    "    if haskey(coord_vars, \"time\") && haskey(coord_vars, \"step\")\n",
    "        # add the 'valid_time' secondary coordinate\n",
    "        dims, time_data = build_valid_time(\n",
    "            coord_vars[\"time\"].data,\n",
    "            coord_vars[\"step\"].data\n",
    "        )\n",
    "        attrs = cfgrib.COORD_ATTRS[\"valid_time\"]\n",
    "        coord_vars[\"valid_time\"] = Variable(dims, time_data, attrs)\n",
    "    end\n",
    "    \n",
    "    data_var_attrs[\"coordinates\"] = join(keys(_d), \" \")\n",
    "    data_var = Variable3(dimensions, data, data_var_attrs)\n",
    "    dims = OrderedDict((d => s) for (d, s) in zip(dimensions, size(data_var.data)))\n",
    "\n",
    "    return dims, data_var, coord_vars\n",
    "end"
   ]
  },
  {
   "cell_type": "code",
   "execution_count": 185,
   "metadata": {},
   "outputs": [
    {
     "data": {
      "text/plain": [
       "(OrderedDict{Any,Any}(\"number\" => 10,\"time\" => 4,\"isobaricInhPa\" => 2,\"latitude\" => 61,\"longitude\" => 120), Variable3((\"number\", \"time\", \"isobaricInhPa\", \"latitude\", \"longitude\"), OnDiskArray(\"/home/roscar/work/cfgrib-project/cfgrib.jl/tests/sample-data/era5-levels-members.grib\", (10, 4, 2, 61, 120), OrderedDict((1, 1, 2) => 0,(2, 1, 2) => 14760,(3, 1, 2) => 29520,(4, 1, 2) => 44280,(5, 1, 2) => 59040,(6, 1, 2) => 73800,(7, 1, 2) => 88560,(8, 1, 2) => 103320,(9, 1, 2) => 118080,(10, 1, 2) => 132840…), missing, 2, Float32), Dict{String,Any}(\"GRIB_units\" => \"m**2 s**-2\",\"long_name\" => \"Geopotential\",\"GRIB_dataType\" => \"an\",\"GRIB_totalNumber\" => 10,\"GRIB_jScansPositively\" => 0,\"GRIB_name\" => \"Geopotential\",\"GRIB_gridType\" => \"regular_ll\",\"GRIB_Ny\" => 61,\"GRIB_longitudeOfLastGridPointInDegrees\" => 357.0,\"GRIB_stepUnits\" => 1…)), OrderedDict{Any,Any}(\"number\" => Variable((\"number\",), [0, 1, 2, 3, 4, 5, 6, 7, 8, 9], Dict(\"units\" => \"1\",\"long_name\" => \"ensemble member numerical id\",\"standard_name\" => \"realization\")),\"time\" => Variable((\"time\",), [1483228800, 1483272000, 1483315200, 1483358400], Dict(\"units\" => \"seconds since 1970-01-01T00:00:00\",\"calendar\" => \"proleptic_gregorian\",\"long_name\" => \"initial time of forecast\",\"standard_name\" => \"forecast_reference_time\")),\"step\" => Variable((), [0], Dict(\"units\" => \"hours\",\"long_name\" => \"time since forecast_reference_time\",\"standard_name\" => \"forecast_period\")),\"isobaricInhPa\" => Variable((\"isobaricInhPa\",), [850, 500], Dict(\"units\" => \"hPa\",\"stored_direction\" => \"decreasing\",\"long_name\" => \"pressure\",\"standard_name\" => \"air_pressure\",\"positive\" => \"down\")),\"latitude\" => Variable((\"latitude\",), [90.0, 87.0, 84.0, 81.0, 78.0, 75.0, 72.0, 69.0, 66.0, 63.0  …  -63.0, -66.0, -69.0, -72.0, -75.0, -78.0, -81.0, -84.0, -87.0, -90.0], Dict(\"units\" => \"degrees_north\",\"stored_direction\" => \"decreasing\",\"long_name\" => \"latitude\",\"standard_name\" => \"latitude\")),\"longitude\" => Variable((\"longitude\",), [0.0, 3.0, 6.0, 9.0, 12.0, 15.0, 18.0, 21.0, 24.0, 27.0  …  330.0, 333.0, 336.0, 339.0, 342.0, 345.0, 348.0, 351.0, 354.0, 357.0], Dict(\"units\" => \"degrees_east\",\"long_name\" => \"longitude\",\"standard_name\" => \"longitude\")),\"valid_time\" => Variable((\"time\",), [1483228800, 1483272000, 1483315200, 1483358400], Dict(\"units\" => \"seconds since 1970-01-01T00:00:00\",\"calendar\" => \"proleptic_gregorian\",\"long_name\" => \"time\",\"standard_name\" => \"time\"))))"
      ]
     },
     "execution_count": 185,
     "metadata": {},
     "output_type": "execute_result"
    }
   ],
   "source": [
    "_d = build_variable_components(var_index, encode_cf, filter_by_keys, log, errors, squeeze, read_keys, time_dims)"
   ]
  },
  {
   "cell_type": "code",
   "execution_count": null,
   "metadata": {},
   "outputs": [],
   "source": []
  }
 ],
 "metadata": {
  "kernelspec": {
   "display_name": "Julia 1.3.1",
   "language": "julia",
   "name": "julia-1.3"
  },
  "language_info": {
   "file_extension": ".jl",
   "mimetype": "application/julia",
   "name": "julia",
   "version": "1.3.1"
  }
 },
 "nbformat": 4,
 "nbformat_minor": 4
}
