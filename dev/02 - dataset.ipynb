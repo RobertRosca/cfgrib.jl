{
 "cells": [
  {
   "cell_type": "code",
   "execution_count": 5,
   "metadata": {},
   "outputs": [
    {
     "name": "stdout",
     "output_type": "stream",
     "text": [
      "\u001b[32m\u001b[1mActivating\u001b[22m\u001b[39m environment at `~/work/cfgrib-project/cfgrib.jl/Project.toml`\n"
     ]
    }
   ],
   "source": [
    "using Pkg; Pkg.activate(\"/home/roscar/work/cfgrib-project/cfgrib.jl\")"
   ]
  },
  {
   "cell_type": "code",
   "execution_count": 6,
   "metadata": {},
   "outputs": [],
   "source": [
    "using cfgrib"
   ]
  },
  {
   "cell_type": "code",
   "execution_count": 7,
   "metadata": {},
   "outputs": [
    {
     "data": {
      "text/plain": [
       "\"/home/roscar/work/cfgrib-project/cfgrib.jl/tests/sample-data/era5-levels-members.grib\""
      ]
     },
     "execution_count": 7,
     "metadata": {},
     "output_type": "execute_result"
    }
   ],
   "source": [
    "path = \"/home/roscar/work/cfgrib-project/cfgrib.jl/tests/sample-data/era5-levels-members.grib\""
   ]
  },
  {
   "cell_type": "code",
   "execution_count": 8,
   "metadata": {},
   "outputs": [],
   "source": [
    "using DataStructures"
   ]
  },
  {
   "cell_type": "code",
   "execution_count": 25,
   "metadata": {},
   "outputs": [],
   "source": [
    "using GRIB"
   ]
  },
  {
   "cell_type": "markdown",
   "metadata": {},
   "source": [
    "## Types"
   ]
  },
  {
   "cell_type": "code",
   "execution_count": 9,
   "metadata": {},
   "outputs": [],
   "source": [
    "struct Variable\n",
    "    dimensions::Tuple{Vararg{String}}\n",
    "    data::Array\n",
    "    attributes::Dict{String, String}\n",
    "end"
   ]
  },
  {
   "cell_type": "code",
   "execution_count": 11,
   "metadata": {},
   "outputs": [
    {
     "data": {
      "text/plain": [
       "false"
      ]
     },
     "execution_count": 11,
     "metadata": {},
     "output_type": "execute_result"
    }
   ],
   "source": [
    "Variable((\"1\", ), [1,2], Dict(\"A\"=>\"b\")) == Variable((\"1\", ), [1,2], Dict(\"A\"=>\"b\"))"
   ]
  },
  {
   "cell_type": "markdown",
   "metadata": {},
   "source": [
    "## build_dataset_components"
   ]
  },
  {
   "cell_type": "code",
   "execution_count": 12,
   "metadata": {},
   "outputs": [
    {
     "name": "stdout",
     "output_type": "stream",
     "text": [
      "original GRIB coordinate for key:arstarst\n"
     ]
    }
   ],
   "source": [
    "a = \"original GRIB coordinate for key:\" *\n",
    "     \"arstarst\"\n",
    "println(a)"
   ]
  },
  {
   "cell_type": "code",
   "execution_count": 125,
   "metadata": {},
   "outputs": [],
   "source": [
    "#      Args\n",
    "index = cfgrib.FileIndex(path, cfgrib.ALL_KEYS)\n",
    "read_keys = []\n",
    "kwargs = Dict()\n",
    "#      Default\n",
    "errors = \"warn\"\n",
    "encode_cf = (\"parameter\", \"time\", \"geography\", \"vertical\")\n",
    "squeeze = true\n",
    "log = missing\n",
    "LOG=log\n",
    "# read_keys\n",
    "time_dims = (\"time\", \"step\");"
   ]
  },
  {
   "cell_type": "code",
   "execution_count": 14,
   "metadata": {},
   "outputs": [
    {
     "data": {
      "text/plain": [
       "cfgrib.FileIndex"
      ]
     },
     "execution_count": 14,
     "metadata": {},
     "output_type": "execute_result"
    }
   ],
   "source": [
    "typeof(index)"
   ]
  },
  {
   "cell_type": "code",
   "execution_count": 15,
   "metadata": {},
   "outputs": [
    {
     "data": {
      "text/plain": [
       "59-element Array{Array,1}:\n",
       " Missing[missing]                                \n",
       " Missing[missing]                                \n",
       " Missing[missing]                                \n",
       " Missing[missing]                                \n",
       " Missing[missing]                                \n",
       " Missing[missing]                                \n",
       " Missing[missing]                                \n",
       " Missing[missing]                                \n",
       " Missing[missing]                                \n",
       " Missing[missing]                                \n",
       " [0]                                             \n",
       " [120]                                           \n",
       " [61]                                            \n",
       " ⋮                                               \n",
       " Missing[missing]                                \n",
       " SubString{String}[\"z\", \"t\"]                     \n",
       " [0]                                             \n",
       " SubString{String}[\"instant\"]                    \n",
       " [1]                                             \n",
       " [0]                                             \n",
       " [1483228800, 1483272000, 1483315200, 1483358400]\n",
       " [10]                                            \n",
       " SubString{String}[\"isobaricInhPa\"]              \n",
       " SubString{String}[\"m**2 s**-2\", \"K\"]            \n",
       " Missing[missing]                                \n",
       " Missing[missing]                                "
      ]
     },
     "execution_count": 15,
     "metadata": {},
     "output_type": "execute_result"
    }
   ],
   "source": [
    "collect(values(index.header_values))"
   ]
  },
  {
   "cell_type": "code",
   "execution_count": 16,
   "metadata": {},
   "outputs": [
    {
     "data": {
      "text/plain": [
       "(:allowed_protocol_version, :grib_path, :index_path, :index_keys, :offsets, :header_values, :filter_by_keys)"
      ]
     },
     "execution_count": 16,
     "metadata": {},
     "output_type": "execute_result"
    }
   ],
   "source": [
    "fieldnames(cfgrib.FileIndex)"
   ]
  },
  {
   "cell_type": "code",
   "execution_count": 17,
   "metadata": {},
   "outputs": [],
   "source": [
    "dimensions = OrderedDict()\n",
    "variables = OrderedDict()\n",
    "filter_by_keys = isdefined(index, :filter_by_keys) ? index.filter_by_keys : Dict();"
   ]
  },
  {
   "cell_type": "code",
   "execution_count": 18,
   "metadata": {},
   "outputs": [
    {
     "data": {
      "text/plain": [
       "129"
      ]
     },
     "execution_count": 18,
     "metadata": {},
     "output_type": "execute_result"
    }
   ],
   "source": [
    "#  THIS SHOULD BE A FOR LOOP\n",
    "param_id = index[\"paramId\"][1]"
   ]
  },
  {
   "cell_type": "code",
   "execution_count": 19,
   "metadata": {},
   "outputs": [],
   "source": [
    "var_index = cfgrib.filter(index, paramId=param_id);"
   ]
  },
  {
   "cell_type": "markdown",
   "metadata": {},
   "source": [
    "## build_variable_components\n",
    "\n",
    "https://github.com/ecmwf/cfgrib/blob/2f50a1ec0331be5ed7476aa4a0bf66fb2e388652/cfgrib/dataset.py#L433"
   ]
  },
  {
   "cell_type": "markdown",
   "metadata": {},
   "source": [
    "### enforce_unique_attributes"
   ]
  },
  {
   "cell_type": "code",
   "execution_count": 20,
   "metadata": {},
   "outputs": [
    {
     "data": {
      "text/plain": [
       "enforce_unique_attributes (generic function with 1 method)"
      ]
     },
     "execution_count": 20,
     "metadata": {},
     "output_type": "execute_result"
    }
   ],
   "source": [
    "function enforce_unique_attributes(index::cfgrib.FileIndex, attribute_keys::Array, filter_by_keys::Dict)\n",
    "    attributes = OrderedDict()\n",
    "    for key in attribute_keys\n",
    "        values = index[key]\n",
    "\n",
    "        if length(values) > 1\n",
    "            throw(\"Attributes are not unique for $key: $(values)\")\n",
    "        end\n",
    "\n",
    "        value = values[1]\n",
    "\n",
    "        if !ismissing(value)\n",
    "            attributes[\"GRIB_\" * key] = value\n",
    "        end\n",
    "    end\n",
    "\n",
    "    return attributes\n",
    "end\n"
   ]
  },
  {
   "cell_type": "markdown",
   "metadata": {},
   "source": [
    "### encode_cf_first"
   ]
  },
  {
   "cell_type": "code",
   "execution_count": 21,
   "metadata": {},
   "outputs": [
    {
     "data": {
      "text/plain": [
       "encode_cf_first (generic function with 3 methods)"
      ]
     },
     "execution_count": 21,
     "metadata": {},
     "output_type": "execute_result"
    }
   ],
   "source": [
    "function encode_cf_first(data_var_attrs::OrderedDict, encode_cf::Tuple{Vararg{String}}=(\"parameter\", \"time\"), time_dims::Tuple{Vararg{String}}=(\"time\", \"step\"))\n",
    "    coords_map = cfgrib.ENSEMBLE_KEYS\n",
    "    param_id = get(data_var_attrs, \"GRIB_paramId\", missing)\n",
    "    data_var_attrs[\"long_name\"] = \"original GRIB paramId: $(param_id)\"\n",
    "    data_var_attrs[\"units\"] = \"1\"\n",
    "\n",
    "    if \"parameter\" in encode_cf\n",
    "        if haskey(data_var_attrs, \"GRIB_paramId\")\n",
    "            data_var_attrs[\"standard_name\"] = data_var_attrs[\"GRIB_cfName\"]\n",
    "        end\n",
    "\n",
    "        if haskey(data_var_attrs, \"GRIB_name\")\n",
    "            data_var_attrs[\"long_name\"] = data_var_attrs[\"GRIB_name\"]\n",
    "        end\n",
    "\n",
    "        if haskey(data_var_attrs, \"GRIB_units\")\n",
    "            data_var_attrs[\"units\"] = data_var_attrs[\"GRIB_units\"]\n",
    "        end\n",
    "    end\n",
    "    \n",
    "    if \"time\" in encode_cf\n",
    "        if issubset(time_dims, cfgrib.ALL_REF_TIME_KEYS)\n",
    "            append!(coords_map, time_dims)\n",
    "        else\n",
    "            throw(\"time_dims $(time_dims) is not a subset of $(cfgrib.ALL_REF_TIME_KEYS)\")\n",
    "        end\n",
    "    else\n",
    "        append!(coords_map, cfgrib.DATA_TIME_KEYS)\n",
    "    end\n",
    "    \n",
    "    append!(coords_map, cfgrib.VERTICAL_KEYS)\n",
    "    append!(coords_map, cfgrib.SPECTRA_KEYS)\n",
    "    \n",
    "    return coords_map\n",
    "end"
   ]
  },
  {
   "cell_type": "code",
   "execution_count": 71,
   "metadata": {},
   "outputs": [
    {
     "data": {
      "text/plain": [
       "first (generic function with 1 method)"
      ]
     },
     "execution_count": 71,
     "metadata": {},
     "output_type": "execute_result"
    }
   ],
   "source": [
    "function first(index::cfgrib.FileIndex)\n",
    "    GribFile(index.grib_path) do f\n",
    "        first_offset = index.offsets[1][2][1]\n",
    "        seek(f, first_offset)\n",
    "        return Message(f)\n",
    "    end    \n",
    "end"
   ]
  },
  {
   "cell_type": "code",
   "execution_count": 126,
   "metadata": {},
   "outputs": [
    {
     "data": {
      "text/plain": [
       "build_geography_coordinates (generic function with 2 methods)"
      ]
     },
     "execution_count": 126,
     "metadata": {},
     "output_type": "execute_result"
    }
   ],
   "source": [
    "function build_geography_coordinates(\n",
    "        index, encode_cf, errors, log=LOG\n",
    "    )\n",
    "    \n",
    "    first_message = first(var_index)\n",
    "    geo_coord_vars = OrderedDict()\n",
    "    grid_type = cfgrib.getone(index, \"gridType\")\n",
    "    \n",
    "    if \"geography\" in encode_cf && grid_type in GRID_TYPES_DIMENSION_COORDS\n",
    "        geo_dims = (\"latitude\", \"longitude\")\n",
    "        geo_shape = (getone(index, \"Ny\"), getone(index, \"Nx\"))\n",
    "        latitudes = first_message[\"distinctLatitudes\"]\n",
    "        geo_coord_vars[\"latitude\"] = Variable(\n",
    "            (\"latitude\",), latitudes, cfgrib.COORD_ATTRS[\"latitude\"]\n",
    "        )\n",
    "        \n",
    "        if latitudes[1] > latitudes[end]\n",
    "            geo_coord_vars[\"latitude\"].attributes[\"stored_direction\"] = \"decreasing\"\n",
    "        end\n",
    "\n",
    "        geo_coord_vars[\"longitude\"] = Variable(\n",
    "            (\"longitude\",),\n",
    "            first_message[\"distinctLongitudes\"],\n",
    "            cfgrib.COORD_ATTRS[\"longitude\"],\n",
    "        )\n",
    "    elseif \"geography\" in encode_cf && grid_type in GRID_TYPES_2D_NON_DIMENSION_COORDS\n",
    "        throw(\"unimplemented\")\n",
    "    else\n",
    "        throw(\"unimplemented\")\n",
    "    end\n",
    "    \n",
    "    return geo_dims, geo_shape, geo_coord_vars\n",
    "end"
   ]
  },
  {
   "cell_type": "code",
   "execution_count": 127,
   "metadata": {},
   "outputs": [
    {
     "data": {
      "text/plain": [
       "((\"latitude\", \"longitude\"), (61, 120), OrderedDict{Any,Any}(\"latitude\" => Variable((\"latitude\",), [90.0, 87.0, 84.0, 81.0, 78.0, 75.0, 72.0, 69.0, 66.0, 63.0  …  -63.0, -66.0, -69.0, -72.0, -75.0, -78.0, -81.0, -84.0, -87.0, -90.0], Dict(\"units\" => \"degrees_north\",\"stored_direction\" => \"decreasing\",\"long_name\" => \"latitude\",\"standard_name\" => \"latitude\")),\"longitude\" => Variable((\"longitude\",), [0.0, 3.0, 6.0, 9.0, 12.0, 15.0, 18.0, 21.0, 24.0, 27.0  …  330.0, 333.0, 336.0, 339.0, 342.0, 345.0, 348.0, 351.0, 354.0, 357.0], Dict(\"units\" => \"degrees_east\",\"long_name\" => \"longitude\",\"standard_name\" => \"longitude\"))))"
      ]
     },
     "execution_count": 127,
     "metadata": {},
     "output_type": "execute_result"
    }
   ],
   "source": [
    "build_geography_coordinates(var_index, encode_cf, errors, log)"
   ]
  },
  {
   "cell_type": "code",
   "execution_count": 247,
   "metadata": {},
   "outputs": [
    {
     "data": {
      "text/plain": [
       "build_variable_components (generic function with 8 methods)"
      ]
     },
     "execution_count": 247,
     "metadata": {},
     "output_type": "execute_result"
    }
   ],
   "source": [
    "function build_variable_components(index, encode_cf=(), filter_by_keys=Dict(), log=LOG, errors=\"warn\", squeeze=true, read_keys=[], time_dims=(\"time\", \"step\"))\n",
    "    data_var_attrs_keys = cfgrib.DATA_ATTRIBUTES_KEYS\n",
    "    data_var_attrs_keys = [data_var_attrs_keys; get(cfgrib.GRID_TYPE_MAP, index[\"gridType\"][1], [])]\n",
    "    data_var_attrs_keys = [data_var_attrs_keys; read_keys]\n",
    "\n",
    "    data_var_attrs = enforce_unique_attributes(var_index, data_var_attrs_keys, filter_by_keys)\n",
    "\n",
    "    coords_map = encode_cf_first(data_var_attrs, encode_cf, time_dims)\n",
    "\n",
    "    coord_name_key_map = Dict()\n",
    "    coord_vars = OrderedDict()\n",
    "\n",
    "    for coord_key in coords_map\n",
    "        values = index[coord_key]\n",
    "        if length(values) == 1 && ismissing(values[1])\n",
    "            #  TODO: Add logging\n",
    "            #  @warn \"Missing from GRIB Stream $(coord_key)\"\n",
    "            continue\n",
    "        end\n",
    "        \n",
    "        coord_name = coord_key\n",
    "\n",
    "        if (\"vertical\" in encode_cf && coord_key == \"level\" && haskey(data_var_attrs, \"GRIB_typeOfLevel\"))\n",
    "            coord_name = data_var_attrs[\"GRIB_typeOfLevel\"]\n",
    "            coord_name_key_map[coord_name] = coord_key\n",
    "        end\n",
    "        \n",
    "        attributes = Dict(\n",
    "            \"long_name\" => \"original GRIB coordinate for key: $(coord_key)($(coord_name))\",\n",
    "            \"units\"     => \"1\",\n",
    "        )\n",
    "        \n",
    "        merge!(attributes, copy(get(cfgrib.COORD_ATTRS, coord_name, Dict())))\n",
    "        \n",
    "        data = sort(values, rev=get(attributes, \"stored_direction\", \"none\") == \"decreasing\")\n",
    "        dimensions = (coord_name, )\n",
    "        \n",
    "        if squeeze && length(values) == 1\n",
    "            data = data[1]\n",
    "            typeof(data) == Array ? nothing : data = [data]\n",
    "            dimensions = ()\n",
    "        end\n",
    "        \n",
    "        coord_vars[coord_name] = Variable(dimensions, data, attributes)\n",
    "    end\n",
    "    \n",
    "    header_dimensions = Tuple(d for (d, c) in pairs(coord_vars) if !squeeze || length(c.data) > 1)\n",
    "    header_shape = Tuple(size(coord_vars[d].data) for d in header_dimensions)\n",
    "    \n",
    "    geo_dims, geo_shape, geo_coord_vars = build_geography_coordinates(index, encode_cf, errors)\n",
    "    \n",
    "    dimensions = (header_dimensions..., geo_dims)\n",
    "    shape = (header_shape..., geo_shape)\n",
    "    \n",
    "    merge!(coord_vars, geo_coord_vars)\n",
    "    \n",
    "    offsets = OrderedDict{NTuple{length(header_dimensions), Int64}, Int}()\n",
    "    for (header_values, offset) in var_index.offsets\n",
    "        header_indexes = Array{Int}(undef, length(header_dimensions))\n",
    "        for (i, dim) in enumerate(header_dimensions)\n",
    "            coord_name = get(coord_name_key_map, dim, dim)\n",
    "            coord_idx = findfirst(var_index.index_keys .== coord_name)\n",
    "            header_value = header_values[coord_idx]\n",
    "            header_indexes[i] = findfirst(coord_vars[dim].data .== header_value)\n",
    "        end\n",
    "        \n",
    "        offsets[Tuple(header_indexes)] = offset\n",
    "    end\n",
    "    \n",
    "    return offsets\n",
    "    \n",
    "    return coord_name_key_map\n",
    "end"
   ]
  },
  {
   "cell_type": "code",
   "execution_count": 248,
   "metadata": {},
   "outputs": [
    {
     "data": {
      "text/plain": [
       "OrderedDict{Tuple{Int64,Int64,Int64},Int64} with 80 entries:\n",
       "  (1, 1, 2)  => 0\n",
       "  (2, 1, 2)  => 14760\n",
       "  (3, 1, 2)  => 29520\n",
       "  (4, 1, 2)  => 44280\n",
       "  (5, 1, 2)  => 59040\n",
       "  (6, 1, 2)  => 73800\n",
       "  (7, 1, 2)  => 88560\n",
       "  (8, 1, 2)  => 103320\n",
       "  (9, 1, 2)  => 118080\n",
       "  (10, 1, 2) => 132840\n",
       "  (1, 1, 1)  => 295200\n",
       "  (2, 1, 1)  => 309960\n",
       "  (3, 1, 1)  => 324720\n",
       "  (4, 1, 1)  => 339480\n",
       "  (5, 1, 1)  => 354240\n",
       "  (6, 1, 1)  => 369000\n",
       "  (7, 1, 1)  => 383760\n",
       "  (8, 1, 1)  => 398520\n",
       "  (9, 1, 1)  => 413280\n",
       "  (10, 1, 1) => 428040\n",
       "  (1, 2, 2)  => 590400\n",
       "  (2, 2, 2)  => 605160\n",
       "  (3, 2, 2)  => 619920\n",
       "  (4, 2, 2)  => 634680\n",
       "  (5, 2, 2)  => 649440\n",
       "  ⋮          => ⋮"
      ]
     },
     "execution_count": 248,
     "metadata": {},
     "output_type": "execute_result"
    }
   ],
   "source": [
    "_d = build_variable_components(var_index, encode_cf, filter_by_keys, log, errors, squeeze, read_keys, time_dims)"
   ]
  }
 ],
 "metadata": {
  "kernelspec": {
   "display_name": "Julia 1.3.1",
   "language": "julia",
   "name": "julia-1.3"
  },
  "language_info": {
   "file_extension": ".jl",
   "mimetype": "application/julia",
   "name": "julia",
   "version": "1.3.1"
  }
 },
 "nbformat": 4,
 "nbformat_minor": 4
}
