{
 "cells": [
  {
   "cell_type": "code",
   "execution_count": 1,
   "metadata": {},
   "outputs": [
    {
     "name": "stderr",
     "output_type": "stream",
     "text": [
      "┌ Info: Precompiling cfgrib [cb67cb4b-e5c8-45d4-aff0-3ae3657ca610]\n",
      "└ @ Base loading.jl:1273\n"
     ]
    }
   ],
   "source": [
    "using cfgrib, DataStructures"
   ]
  },
  {
   "cell_type": "code",
   "execution_count": 2,
   "metadata": {},
   "outputs": [],
   "source": [
    "const dir_tests = abspath(joinpath(dirname(pathof(cfgrib)), \"..\", \"tests\"))\n",
    "const dir_testfiles = abspath(joinpath(dir_tests, \"sample-data\"))\n",
    "\n",
    "test_file = joinpath(dir_testfiles, \"era5-levels-members.grib\")\n",
    "\n",
    "index = cfgrib.FileIndex(\n",
    "    test_file,\n",
    "    cfgrib.ALL_KEYS\n",
    ")\n",
    "\n",
    "cfgrib.filter!(index, paramId=130);"
   ]
  },
  {
   "cell_type": "code",
   "execution_count": 19,
   "metadata": {},
   "outputs": [
    {
     "data": {
      "text/plain": [
       "build_variable_components (generic function with 1 method)"
      ]
     },
     "execution_count": 19,
     "metadata": {},
     "output_type": "execute_result"
    }
   ],
   "source": [
    "#  TODO: Add filter_by_keys\n",
    "function build_variable_components(\n",
    "        index; encode_cf=(\"parameter\", \"time\", \"geography\", \"vertical\"),\n",
    "        log=LOG, errors=\"warn\", squeeze=true, read_keys=[],\n",
    "        time_dims=(\"time\", \"step\")\n",
    "    )\n",
    "    data_var_attrs_keys = cfgrib.DATA_ATTRIBUTES_KEYS\n",
    "    data_var_attrs_keys = [\n",
    "        data_var_attrs_keys;\n",
    "        get(cfgrib.GRID_TYPE_MAP, index[\"gridType\"][1], [])\n",
    "    ]\n",
    "    data_var_attrs_keys = [data_var_attrs_keys; read_keys]\n",
    "\n",
    "    data_var_attrs = cfgrib.enforce_unique_attributes(index, data_var_attrs_keys)\n",
    "\n",
    "    coords_map = cfgrib.encode_cf_first(data_var_attrs, encode_cf, time_dims)\n",
    "\n",
    "    coord_name_key_map = Dict()\n",
    "    coord_vars = OrderedDict()\n",
    "\n",
    "    for coord_key in coords_map\n",
    "        values = index[coord_key]\n",
    "        if length(values) == 1 && ismissing(values[1])\n",
    "            #  TODO: Add logging\n",
    "            #  @warn \"Missing from GRIB Stream $(coord_key)\"\n",
    "            continue\n",
    "        end\n",
    "\n",
    "        coord_name = coord_key\n",
    "\n",
    "        if (\"vertical\" in encode_cf && coord_key == \"level\"\n",
    "                && haskey(data_var_attrs, \"GRIB_typeOfLevel\"))\n",
    "            coord_name = data_var_attrs[\"GRIB_typeOfLevel\"]\n",
    "            coord_name_key_map[coord_name] = coord_key\n",
    "        end\n",
    "\n",
    "        attributes = Dict(\n",
    "            \"long_name\" => \"original GRIB coordinate for key:\" *\n",
    "                           \"$(coord_key)($(coord_name))\",\n",
    "            \"units\"     => \"1\",\n",
    "        )\n",
    "\n",
    "        merge!(attributes, copy(get(cfgrib.COORD_ATTRS, coord_name, Dict())))\n",
    "\n",
    "        data = sort(\n",
    "            values,\n",
    "            rev=get(attributes, \"stored_direction\", \"none\") == \"decreasing\"\n",
    "        )\n",
    "        dimensions = (coord_name, )\n",
    "\n",
    "        if squeeze && length(values) == 1\n",
    "            data = data[1]\n",
    "            typeof(data) == Array ? nothing : data = [data]\n",
    "            dimensions = ()\n",
    "        end\n",
    "\n",
    "        coord_vars[coord_name] = cfgrib.Variable(dimensions, data, attributes)\n",
    "    end\n",
    "\n",
    "    header_dimensions = Tuple(\n",
    "        d for (d, c)\n",
    "        in pairs(coord_vars)\n",
    "        if !squeeze || length(c.data) > 1\n",
    "    )\n",
    "    #  Loses information on which shape belongs to which dimension\n",
    "    #  doesn't seem to matter though\n",
    "    header_shape = Iterators.flatten(\n",
    "        Tuple(size(coord_vars[d].data) for d in header_dimensions)\n",
    "    )\n",
    "\n",
    "    geo_dims, geo_shape, geo_coord_vars = cfgrib.build_geography_coordinates(\n",
    "        index, encode_cf, errors; log=log\n",
    "    )\n",
    "\n",
    "    dimensions = (header_dimensions..., geo_dims...)\n",
    "    shape = (header_shape..., geo_shape...)\n",
    "\n",
    "    merge!(coord_vars, geo_coord_vars)\n",
    "\n",
    "    offsets = OrderedDict{NTuple{length(header_dimensions), Int64}, Int}()\n",
    "    for (header_values, offset) in index.offsets\n",
    "        header_indexes = Array{Int}(undef, length(header_dimensions))\n",
    "        for (i, dim) in enumerate(header_dimensions)\n",
    "            coord_name = get(coord_name_key_map, dim, dim)\n",
    "            coord_idx = findfirst(index.index_keys .== coord_name)\n",
    "            header_value = header_values[coord_idx]\n",
    "            header_indexes[i] = findfirst(coord_vars[dim].data .== header_value)\n",
    "        end\n",
    "\n",
    "        offsets[Tuple(header_indexes)] = offset\n",
    "    end\n",
    "\n",
    "    data = cfgrib.OnDiskArray(\n",
    "        index.grib_path,\n",
    "        shape,\n",
    "        offsets,\n",
    "        missing,\n",
    "        length(geo_dims),\n",
    "        Float32\n",
    "    )\n",
    "    \n",
    "    if haskey(coord_vars, \"time\") && haskey(coord_vars, \"step\")\n",
    "        # add the 'valid_time' secondary coordinate\n",
    "        dims, time_data = cfgrib.build_valid_time(\n",
    "            coord_vars[\"time\"].data,\n",
    "            coord_vars[\"step\"].data\n",
    "        )\n",
    "        attrs = cfgrib.COORD_ATTRS[\"valid_time\"]\n",
    "        coord_vars[\"valid_time\"] = cfgrib.Variable(dims, time_data, attrs)\n",
    "    end\n",
    "\n",
    "    data_var_attrs[\"coordinates\"] = join(keys(coord_vars), \" \")\n",
    "    data_var = cfgrib.Variable(dimensions, data, data_var_attrs)\n",
    "    dims = OrderedDict(\n",
    "        (d => s)\n",
    "        for (d, s)\n",
    "        in zip(dimensions, size(data_var.data))\n",
    "    )\n",
    "\n",
    "    return dims, data_var, coord_vars\n",
    "end"
   ]
  },
  {
   "cell_type": "code",
   "execution_count": 20,
   "metadata": {},
   "outputs": [],
   "source": [
    "_d = build_variable_components(\n",
    "    index; log=missing\n",
    ");"
   ]
  },
  {
   "cell_type": "code",
   "execution_count": 24,
   "metadata": {},
   "outputs": [
    {
     "data": {
      "text/plain": [
       "OrderedDict{Any,Any} with 7 entries:\n",
       "  \"number\"        => Variable((\"number\",), [0, 1, 2, 3, 4, 5, 6, 7, 8, 9], Dict…\n",
       "  \"time\"          => Variable((\"time\",), [1483228800, 1483272000, 1483315200, 1…\n",
       "  \"step\"          => Variable((), [0], Dict{String,Any}(\"units\"=>\"hours\",\"long_…\n",
       "  \"isobaricInhPa\" => Variable((\"isobaricInhPa\",), [850, 500], Dict{String,Any}(…\n",
       "  \"latitude\"      => Variable((\"latitude\",), [90.0, 87.0, 84.0, 81.0, 78.0, 75.…\n",
       "  \"longitude\"     => Variable((\"longitude\",), [0.0, 3.0, 6.0, 9.0, 12.0, 15.0, …\n",
       "  \"valid_time\"    => Variable((\"time\",), [1483228800, 1483272000, 1483315200, 1…"
      ]
     },
     "execution_count": 24,
     "metadata": {},
     "output_type": "execute_result"
    }
   ],
   "source": [
    "_d[3]"
   ]
  },
  {
   "cell_type": "code",
   "execution_count": 6,
   "metadata": {},
   "outputs": [
    {
     "data": {
      "text/plain": [
       "1-element Array{Int64,1}:\n",
       " 0"
      ]
     },
     "execution_count": 6,
     "metadata": {},
     "output_type": "execute_result"
    }
   ],
   "source": [
    "_d[\"step\"].data"
   ]
  },
  {
   "cell_type": "code",
   "execution_count": 7,
   "metadata": {},
   "outputs": [
    {
     "data": {
      "text/plain": [
       "((\"time\",), [1483228800, 1483272000, 1483315200, 1483358400])"
      ]
     },
     "execution_count": 7,
     "metadata": {},
     "output_type": "execute_result"
    }
   ],
   "source": [
    "cfgrib.build_valid_time(\n",
    "    _d[\"time\"].data,\n",
    "    _d[\"step\"].data\n",
    ")"
   ]
  },
  {
   "cell_type": "code",
   "execution_count": 40,
   "metadata": {},
   "outputs": [
    {
     "data": {
      "text/plain": [
       "1"
      ]
     },
     "execution_count": 40,
     "metadata": {},
     "output_type": "execute_result"
    }
   ],
   "source": [
    "length(unique(_d[\"step\"].data))"
   ]
  }
 ],
 "metadata": {
  "kernelspec": {
   "display_name": "Julia 1.3.1",
   "language": "julia",
   "name": "julia-1.3"
  },
  "language_info": {
   "file_extension": ".jl",
   "mimetype": "application/julia",
   "name": "julia",
   "version": "1.3.1"
  }
 },
 "nbformat": 4,
 "nbformat_minor": 4
}
