{
 "cells": [
  {
   "cell_type": "markdown",
   "metadata": {},
   "source": [
    "# Indexing\n",
    "\n",
    "An overview of how the indexing code works in cfgrib.jl"
   ]
  },
  {
   "cell_type": "code",
   "execution_count": null,
   "metadata": {},
   "outputs": [],
   "source": [
    "using DataStructures  # For the OrderedDict type\n",
    "using Dates\n",
    "using GRIB"
   ]
  },
  {
   "cell_type": "markdown",
   "metadata": {},
   "source": [
    "## `FileIndex` Type"
   ]
  },
  {
   "cell_type": "code",
   "execution_count": null,
   "metadata": {},
   "outputs": [],
   "source": [
    "mutable struct FileIndex\n",
    "    allowed_protocol_version::VersionNumber\n",
    "\n",
    "    grib_path::String\n",
    "    index_path::String\n",
    "\n",
    "    index_keys::Array{String, 1}\n",
    "    offsets::Array  # TODO: Specify offset type better\n",
    "    message_lengths::Array{Int, 1}\n",
    "    header_values::OrderedDict{String, Array}\n",
    "\n",
    "    filter_by_keys::Dict\n",
    "\n",
    "\n",
    "    #  Here we define an inner constructor which will always create an object\n",
    "    #  with a set `allowed_protocol_version` when you call `FileIndex()`\n",
    "    #  this supresses generation of default constructors, so version number is\n",
    "    #  always fixed\n",
    "    FileIndex() = new(v\"0.0.0\")\n",
    "end"
   ]
  },
  {
   "cell_type": "markdown",
   "metadata": {},
   "source": [
    "This class contains the same attributes as the Python version, however it stores the path to the grib file instead of a file stream."
   ]
  },
  {
   "cell_type": "markdown",
   "metadata": {},
   "source": [
    "## `FileIndex` Creation"
   ]
  },
  {
   "cell_type": "markdown",
   "metadata": {},
   "source": [
    "### Constructors"
   ]
  },
  {
   "cell_type": "markdown",
   "metadata": {},
   "source": [
    "Constructors are functions which construct new objects. For example, we can define a basic composite type:"
   ]
  },
  {
   "cell_type": "code",
   "execution_count": null,
   "metadata": {},
   "outputs": [],
   "source": [
    "struct Foo\n",
    "    bar\n",
    "    baz\n",
    "end"
   ]
  },
  {
   "cell_type": "markdown",
   "metadata": {},
   "source": [
    "Which automatically generates a default constructor of the form `Foo(bar, baz)`:"
   ]
  },
  {
   "cell_type": "code",
   "execution_count": null,
   "metadata": {},
   "outputs": [],
   "source": [
    "foo = Foo(1, 2)"
   ]
  },
  {
   "cell_type": "code",
   "execution_count": null,
   "metadata": {},
   "outputs": [],
   "source": [
    "foo.bar"
   ]
  },
  {
   "cell_type": "markdown",
   "metadata": {},
   "source": [
    "An outer constructor is a method defined outside of the type definition which is used so construct the type, for example:"
   ]
  },
  {
   "cell_type": "code",
   "execution_count": null,
   "metadata": {},
   "outputs": [],
   "source": [
    "Foo(x) = Foo(x, x)"
   ]
  },
  {
   "cell_type": "code",
   "execution_count": null,
   "metadata": {},
   "outputs": [],
   "source": [
    "foo = Foo(1)"
   ]
  },
  {
   "cell_type": "markdown",
   "metadata": {},
   "source": [
    "Whereas inner constructors are defined inside the type definition, there are a few benenfits to using these, such as being able to define default values, enforcing rules, type promotion, self referential values, etc...\n",
    "\n",
    "A simple example from the Julia docs is an ordered pair type:"
   ]
  },
  {
   "cell_type": "code",
   "execution_count": null,
   "metadata": {},
   "outputs": [],
   "source": [
    "struct OrderedPair\n",
    "    x::Real\n",
    "    y::Real\n",
    "    OrderedPair(x,y) = x > y ? error(\"out of order\") : new(x,y)\n",
    "end"
   ]
  },
  {
   "cell_type": "code",
   "execution_count": null,
   "metadata": {},
   "outputs": [],
   "source": [
    "OrderedPair(1, 2)"
   ]
  },
  {
   "cell_type": "code",
   "execution_count": null,
   "metadata": {},
   "outputs": [],
   "source": [
    "OrderedPair(2,1)"
   ]
  },
  {
   "cell_type": "markdown",
   "metadata": {},
   "source": [
    "When a inner constructor is defined, the default constructor (which is just a functiont that takes in all of the fields as arguments, in order) is no longer created.\n",
    "\n",
    "We define an inner constructor `FileIndex() = new(v\"0.0.0\")` in the file index type, so now that is the only constructor available to instantiate this type.\n",
    "\n",
    "So here we define an outer constructor (which calls the inner constructor at the start) that actually populates the rest of the fields:"
   ]
  },
  {
   "cell_type": "code",
   "execution_count": null,
   "metadata": {},
   "outputs": [],
   "source": [
    "function FileIndex(grib_path::String, index_keys::Array{String, 1})\n",
    "    fileindex = FileIndex()\n",
    "    fileindex.grib_path = grib_path\n",
    "    fileindex.index_keys = index_keys\n",
    "\n",
    "    if isfile(index_path(fileindex))\n",
    "        from_indexfile!(fileindex)\n",
    "    else\n",
    "        from_gribfile!(fileindex)\n",
    "        get_header_values!(fileindex)\n",
    "    end\n",
    "\n",
    "    return fileindex\n",
    "end"
   ]
  },
  {
   "cell_type": "markdown",
   "metadata": {},
   "source": [
    "## Extending Interfaces\n",
    "\n",
    "In Python if you want a way to get items via indexing, you would add a `__getitem__` dunder method to your class. As Julia is based on multiple dispatch, we insted extend `Base.getindex` so that is knows how to access our object:"
   ]
  },
  {
   "cell_type": "code",
   "execution_count": null,
   "metadata": {},
   "outputs": [],
   "source": [
    "Base.getindex(obj::FileIndex, key) = obj.header_values[key]"
   ]
  },
  {
   "cell_type": "markdown",
   "metadata": {},
   "source": [
    "We want indexing into... the index to return the corresponding header value, so we define `getindex` to do just that."
   ]
  },
  {
   "cell_type": "markdown",
   "metadata": {},
   "source": [
    "## Finding the Index Path"
   ]
  },
  {
   "cell_type": "code",
   "execution_count": null,
   "metadata": {},
   "outputs": [],
   "source": [
    "function index_path(index::FileIndex)\n",
    "    index_keys_hash = hash(\n",
    "        join([index.index_keys..., index.allowed_protocol_version])\n",
    "    )\n",
    "    index_keys_hash = string(index_keys_hash, base=16)\n",
    "\n",
    "    return \"$(index.grib_path).$index_keys_hash.idx\"\n",
    "end\n",
    "\n",
    "index_path!(index::FileIndex) = setfield!(index, :index_path, index_path(index))"
   ]
  },
  {
   "cell_type": "markdown",
   "metadata": {},
   "source": [
    "In Julia convention if a function ends with `!` it means that the function modifies its arguments instead of returning the modified version. So `index_path!` gets the index path and adds it to the existing `FileIndex`, whereas `index_path` would just return the string of the index path without modifying the file index object.\n",
    "\n",
    "Another example of this is `filter` and `filter!`, one will return a copy of the filtered index, whereas the other would filter the index in-place."
   ]
  },
  {
   "cell_type": "markdown",
   "metadata": {},
   "source": [
    "## Loading Index from GRIB File\n",
    "\n",
    "Effectively the `from_filestream` classmethod under the `FileIndex` class:"
   ]
  },
  {
   "cell_type": "code",
   "execution_count": null,
   "metadata": {},
   "outputs": [],
   "source": [
    "function from_gribfile!(index::FileIndex)\n",
    "    offsets = OrderedDict()\n",
    "    count_offsets = Dict{Int, Int}()\n",
    "\n",
    "    index_keys = index.index_keys\n",
    "    index_key_count = length(index_keys)\n",
    "    index_key_symbols = Tuple(Symbol.(index_keys))\n",
    "    HeaderTuple = NamedTuple{index_key_symbols}\n",
    "\n",
    "    #  TODO: Time function to see if it is worth optimising\n",
    "    #  based on gribfile.nmessages w/ known-length arrays\n",
    "    #  more, or if I/O overhead too large\n",
    "    GribFile(index.grib_path) do f\n",
    "        message_lengths = Array{Int, 1}(undef, f.nmessages)\n",
    "        for (nmessage, message) in enumerate(f)\n",
    "            header_values = Array{Any}(undef, index_key_count)\n",
    "            for (i, key) in enumerate(index_keys)\n",
    "                value = haskey(message, key) ? message[key] : missing\n",
    "                value = value isa Array ? Tuple(value) : value\n",
    "                #  TODO: use dispatch to do this via GRIB\n",
    "                value = key == \"time\" ? from_grib_date_time(message) : value\n",
    "\n",
    "                header_values[i] = value\n",
    "            end\n",
    "\n",
    "            offset = Int(message[\"offset\"])\n",
    "            if offset in keys(count_offsets)\n",
    "                count_offsets[offset] += 1\n",
    "                offset_field = (offset, count_offsets[offset])\n",
    "            else\n",
    "                count_offsets[offset] = 0\n",
    "                offset_field = offset\n",
    "            end\n",
    "\n",
    "            message_lengths[nmessage] = Int(message[\"totalLength\"])\n",
    "            offsets[HeaderTuple(header_values)] = offset_field\n",
    "        end\n",
    "        index.message_lengths = message_lengths\n",
    "    end\n",
    "\n",
    "    index.offsets = collect(pairs(offsets))\n",
    "end"
   ]
  },
  {
   "cell_type": "markdown",
   "metadata": {},
   "source": [
    "**notes on implementation**:\n",
    "\n",
    "- Currently does not handle exceptions\n",
    "- Does not do the header_values_cache as... I don't really get what it is\n",
    "- Not clear to me how the date values are converted in cfgrib.py, and how this should be implemented\n",
    "- I'd like to find out more about:\n",
    "  - from_grib_date_time\n",
    "  - to_grib_date_time\n",
    "  - from_grib_step\n",
    "  - to_grib_step\n",
    "  - from_grib_month\n",
    "  - build_valid_time\n",
    "\n",
    "Currently the time conversion is done by a few functions:"
   ]
  },
  {
   "cell_type": "code",
   "execution_count": null,
   "metadata": {},
   "outputs": [],
   "source": [
    "DEFAULT_EPOCH = DateTime(1970, 1, 1, 0, 0)\n",
    "\n",
    "\n",
    "function from_grib_date_time(date::Int, time::Int; epoch=DEFAULT_EPOCH)\n",
    "    hour = time ÷ 100\n",
    "    minute = time % 100\n",
    "    year = date ÷ 10000\n",
    "    month = date ÷ 100 % 100\n",
    "    day = date % 100\n",
    "\n",
    "    data_datetime = DateTime(year, month, day, hour, minute)\n",
    "\n",
    "    return Dates.value(Dates.Second(data_datetime - epoch))\n",
    "end\n",
    "\n",
    "function from_grib_date_time(\n",
    "        message::GRIB.Message, date_key=\"dataDate\",\n",
    "        time_key=\"dataTime\", epoch=DEFAULT_EPOCH\n",
    "    )\n",
    "    date = message[date_key]\n",
    "    time = message[time_key]\n",
    "\n",
    "    return from_grib_date_time(date, time)\n",
    "end\n",
    "\n",
    "\n",
    "#  TODO: This probably won't work translated directly from python\n",
    "#  check cases where time and step are effectively missing\n",
    "function build_valid_time(time::Int, step::Int)\n",
    "    step_s = step * 3600\n",
    "\n",
    "    data = time + step_s\n",
    "    dims = ()\n",
    "\n",
    "    return dims, data\n",
    "end\n",
    "\n",
    "function build_valid_time(time::Array{Int, 1}, step::Int)\n",
    "    step_s = step * 3600\n",
    "\n",
    "    data = time .+ step_s\n",
    "    dims = (\"time\", )\n",
    "\n",
    "    return dims, data\n",
    "end\n",
    "\n",
    "function build_valid_time(time::Int, step::Array{Int, 1})\n",
    "    step_s = step * 3600\n",
    "\n",
    "    data = time .+ step_s\n",
    "    dims = (\"step\", )\n",
    "\n",
    "    return dims, data\n",
    "end\n",
    "\n",
    "function build_valid_time(time::Array{Int, 1}, step::Array{Int, 1})\n",
    "    step_s = step * 3600\n",
    "\n",
    "    if length(time) == 1 && length(step) == 1\n",
    "        return build_valid_time(time[1], step[1])\n",
    "    end\n",
    "\n",
    "    #  TODO: Julia is column major, numpy is row major, not too sure what\n",
    "    #  the correct approach would be here...\n",
    "    data = time' .+ step_s\n",
    "    dims = (\"time\", \"step\")\n",
    "    return dims, data\n",
    "\n",
    "end\n",
    "\n",
    "#  TODO: implement other conversion methods, but some seem unused, should these\n",
    "#  be implemented as well:\n",
    "#   - to_grib_date_time\n",
    "#   - from_grib_step\n",
    "#   - to_grib_step\n",
    "#   - from_grib_month\n"
   ]
  },
  {
   "cell_type": "markdown",
   "metadata": {},
   "source": [
    "## Getting Header Values"
   ]
  },
  {
   "cell_type": "code",
   "execution_count": null,
   "metadata": {},
   "outputs": [],
   "source": [
    "function get_header_values!(index::FileIndex)\n",
    "    header_values = OrderedDict{String, Array}()\n",
    "    for key in index.index_keys\n",
    "        header_values[key] = unique([\n",
    "            offset[1][Symbol(key)]\n",
    "            for offset\n",
    "            in index.offsets\n",
    "        ])\n",
    "    end\n",
    "\n",
    "    index.header_values = header_values\n",
    "end"
   ]
  },
  {
   "cell_type": "markdown",
   "metadata": {},
   "source": [
    "## `getone`"
   ]
  },
  {
   "cell_type": "code",
   "execution_count": null,
   "metadata": {},
   "outputs": [],
   "source": [
    "function getone(index::FileIndex, item)\n",
    "    values = index[item]\n",
    "\n",
    "    if length(values) != 1\n",
    "        throw(\"Expected 1 value for $(item), found $(length(values)) instead\")\n",
    "    end\n",
    "\n",
    "    return values[1]\n",
    "end"
   ]
  },
  {
   "cell_type": "markdown",
   "metadata": {},
   "source": [
    "## `first`"
   ]
  },
  {
   "cell_type": "code",
   "execution_count": null,
   "metadata": {},
   "outputs": [],
   "source": [
    "function first(index::FileIndex)\n",
    "    GribFile(index.grib_path) do file\n",
    "        first_offset = index.offsets[1][2][1]\n",
    "        #  There is a discrepancy between how offsets are defined and used\n",
    "        #  in cfgrib with the GRIB file seek method and in the Julia GRIB\n",
    "        #  package, in Julia seek seeks through the messages themselves not\n",
    "        #  the acutal offset values. Here we use the cumulative sum of the\n",
    "        #  message lengths to work out which message an offset value is in.\n",
    "        #\n",
    "        #  TODO: This is probably due to me making a mistake, don't know\n",
    "        #  enough about GRIB spec to figure out how this should be done, get\n",
    "        #  ECMWF help with this\n",
    "        message_length_cumsum = cumsum(index.message_lengths)\n",
    "        offset_message_index = findfirst(message_length_cumsum .> first_offset) - 1\n",
    "        seek(file, offset_message_index)\n",
    "        return Message(file)\n",
    "    end\n",
    "end"
   ]
  },
  {
   "cell_type": "markdown",
   "metadata": {},
   "source": [
    "**notes on implementation**:\n",
    "\n",
    "This... escapes me a bit, as I'm still not familiar with GRIB files/ecCodes. \n",
    "\n",
    "Far as I can tell, `seek` in GRIB.jl seeks through entire messages, whereas cfgrib.py seeks through the offset values. "
   ]
  },
  {
   "cell_type": "markdown",
   "metadata": {},
   "source": [
    "## Filtering"
   ]
  },
  {
   "cell_type": "markdown",
   "metadata": {},
   "source": [
    "Similar to python, Julia has a wildcard-esque equivalent. In python you can write `func(*args)` to collect a list of arguments, and `func(**kwargs)` for keyword arguments. In julia, keyword arguments are after a semicolon, and instead of an asterisc you use an ellipses to collect arguments, so:"
   ]
  },
  {
   "cell_type": "code",
   "execution_count": null,
   "metadata": {},
   "outputs": [],
   "source": [
    "test_args(args...; kwargs...) = println(\"args: $(args)\"), println(\"kwargs: $(kwargs)\")"
   ]
  },
  {
   "cell_type": "code",
   "execution_count": null,
   "metadata": {},
   "outputs": [],
   "source": [
    "test_args(1,2,\"potato\"; a=3, b=2.9, c=\"carrot\")"
   ]
  },
  {
   "cell_type": "markdown",
   "metadata": {},
   "source": [
    "Filter is defined using collected keyword arguments into a `query` variable:"
   ]
  },
  {
   "cell_type": "code",
   "execution_count": null,
   "metadata": {},
   "outputs": [],
   "source": [
    "function filter_offsets(index::FileIndex; query...)\n",
    "    filtered_offsets = Array{Pair{Any,Any},1}()\n",
    "\n",
    "    for (header_values, offset_values) in index.offsets\n",
    "        for (k, v) in query\n",
    "            if header_values[k] != v\n",
    "                break\n",
    "            else\n",
    "                append!(filtered_offsets, [Pair(header_values, offset_values)])\n",
    "                break\n",
    "            end\n",
    "        end\n",
    "    end\n",
    "\n",
    "    return filtered_offsets\n",
    "end\n",
    "\n",
    "function filter(index::FileIndex; query...)\n",
    "    filtered_offsets = filter_offsets(index; query...)\n",
    "\n",
    "    filtered_index = deepcopy(index)\n",
    "    filtered_index.offsets = filtered_offsets\n",
    "    filtered_index.filter_by_keys = query\n",
    "\n",
    "    get_header_values!(filtered_index)\n",
    "\n",
    "    return filtered_index\n",
    "end\n",
    "\n",
    "function filter!(index::FileIndex; query...)\n",
    "    filtered_offsets = filter_offsets(index; query...)\n",
    "\n",
    "    index.offsets = filtered_offsets\n",
    "    index.filter_by_keys = query\n",
    "\n",
    "    get_header_values!(index)\n",
    "end"
   ]
  },
  {
   "cell_type": "markdown",
   "metadata": {},
   "source": [
    "**notes on implementation**:\n",
    "\n",
    "`filter_by_keys` exists and is used quite often, however this hasn't been exposed in the user callable functions yet as I may change how it works in the future. GRIB.jl has its own `Index` type, indexing functionality, and index filtering. At the start of the project I had no clue what any of that meant/was for, so I just copied the python implementation from cfgrib, but now that I vaguely understand it I want to replace my indexing and filtering with the GRIB.jl implementation where possible.\n",
    "\n",
    "From the GRIB.jl readme, filtering is done like this:\n",
    "\n",
    "```\n",
    "Index(filename, \"shortName\", \"typeOfLevel\", \"level\") do index\n",
    "    select!(index, \"shortName\", \"t\")\n",
    "    select!(index, \"typeOfLevel\", \"isobaricInhPa\")\n",
    "    select!(index, \"level\", 500)\n",
    "    for msg in index\n",
    "        # Do things with msg\n",
    "    end\n",
    "end\n",
    "```"
   ]
  },
  {
   "cell_type": "markdown",
   "metadata": {},
   "source": [
    "# Bringing it Together"
   ]
  },
  {
   "cell_type": "code",
   "execution_count": null,
   "metadata": {},
   "outputs": [],
   "source": [
    "using cfgrib\n",
    "\n",
    "const dir_tests = abspath(joinpath(dirname(pathof(cfgrib)), \"..\", \"test\"))\n",
    "const dir_testfiles = abspath(joinpath(dir_tests, \"sample-data\"))\n",
    "\n",
    "test_file = joinpath(dir_testfiles, \"era5-levels-members.grib\")"
   ]
  },
  {
   "cell_type": "code",
   "execution_count": null,
   "metadata": {},
   "outputs": [],
   "source": [
    "index_keys = copy(cfgrib.ALL_KEYS);"
   ]
  },
  {
   "cell_type": "code",
   "execution_count": null,
   "metadata": {},
   "outputs": [],
   "source": [
    "fileindex = FileIndex(test_file, index_keys)"
   ]
  },
  {
   "cell_type": "markdown",
   "metadata": {},
   "source": [
    "That is a truly horrific output, I haven't decided on a decent way to show this yet. In a similar way to python, in Julia you can override the base repr, display, and show functions to change what is printed."
   ]
  },
  {
   "cell_type": "code",
   "execution_count": null,
   "metadata": {},
   "outputs": [],
   "source": [
    "index_path(fileindex)"
   ]
  },
  {
   "cell_type": "code",
   "execution_count": null,
   "metadata": {},
   "outputs": [],
   "source": [
    "methodswith(FileIndex)"
   ]
  },
  {
   "cell_type": "code",
   "execution_count": null,
   "metadata": {},
   "outputs": [],
   "source": [
    "first(fileindex)"
   ]
  },
  {
   "cell_type": "code",
   "execution_count": null,
   "metadata": {},
   "outputs": [],
   "source": [
    "fieldnames(FileIndex)"
   ]
  },
  {
   "cell_type": "code",
   "execution_count": null,
   "metadata": {},
   "outputs": [],
   "source": [
    "?FileIndex"
   ]
  },
  {
   "cell_type": "code",
   "execution_count": null,
   "metadata": {},
   "outputs": [],
   "source": [
    "fileindex.index_keys"
   ]
  },
  {
   "cell_type": "markdown",
   "metadata": {},
   "source": [
    "# Other Notes:"
   ]
  },
  {
   "cell_type": "markdown",
   "metadata": {},
   "source": [
    "## Use of ABC-Like Packages?\n",
    "\n",
    "A bit like ABC in python, there are some Julia packages which add convenient ways to write code in, but they're not part of base Julia and may make it more difficult to write and maintain the code as they add another thing you need to learn to use.\n",
    "\n",
    "In Julia there is a [Parameters.jl](https://github.com/mauro3/Parameters.jl) package which offers some nice convenience functionalities for writing, creating, and displaying, types.\n",
    "\n",
    "There's also [FieldDefaults.jl](https://github.com/rafaqz/FieldDefaults.jl) by Rafael Schouten which has similar functionality, I mention this specifically ar Rafael is also involved in the geospacial data scene in Julia.\n",
    "\n",
    "These tools are convenient but obfuscate the code a bit, especially if you are new to the language. Is it worth looking into using them or should we keep things as close to base Julia as possible?"
   ]
  },
  {
   "cell_type": "markdown",
   "metadata": {},
   "source": [
    "## Using GRIB.jl Index Types?\n",
    "\n",
    "[GRIB.jl](https://github.com/weech/GRIB.jl) has a built in index type with some filtering functionality already. Does this look flexible enough to be used instead of the system copied over from the python version? I'd be happy to expand on the GRIB.jl implementation and try to get any required changes merged, instead of creating and handling our own index types here."
   ]
  },
  {
   "cell_type": "markdown",
   "metadata": {},
   "source": [
    "## Juliaification Notes\n",
    "\n",
    "To facilitate the wonders of multiple dispatch it is common to use functions which access fields and return the field value instead of just accessing the field directly, for example instead of doing `fileindex.index_keys` you would do `index_keys(fileindex)`.\n",
    "\n",
    "This is done for a few reasons, in my opinion the main two are: allowing for compatibility with other types. So far all of the functions I defined explicitly dispatch on to the `FileIndex` type, however if they instead dispatched on to some abstarct file index type then this would mean that others could use cfgrib.jl with their own types **without having to modify the type**, all they need to do is define the methods we use.\n",
    "\n",
    "For example:"
   ]
  },
  {
   "cell_type": "code",
   "execution_count": null,
   "metadata": {},
   "outputs": [],
   "source": [
    "struct WeirdIndex\n",
    "    werid_thing_path::String\n",
    "    headers::Array\n",
    "end"
   ]
  },
  {
   "cell_type": "code",
   "execution_count": null,
   "metadata": {},
   "outputs": [],
   "source": [
    "example_function(index::Union{FileIndex,WeirdIndex}) = println(\"There are $(length(header_values(index))) headers for $(file_path(index))\")"
   ]
  },
  {
   "cell_type": "code",
   "execution_count": null,
   "metadata": {},
   "outputs": [],
   "source": [
    "header_values(index::FileIndex) = index.header_values\n",
    "\n",
    "file_path(index::FileIndex) = index.grib_path"
   ]
  },
  {
   "cell_type": "code",
   "execution_count": null,
   "metadata": {},
   "outputs": [],
   "source": [
    "example_function(fileindex)"
   ]
  },
  {
   "cell_type": "code",
   "execution_count": null,
   "metadata": {},
   "outputs": [],
   "source": [
    "header_values(index::WeirdIndex) = index.headers\n",
    "file_path(index::WeirdIndex) = index.werid_thing_path"
   ]
  },
  {
   "cell_type": "code",
   "execution_count": null,
   "metadata": {},
   "outputs": [],
   "source": [
    "wi = WeirdIndex(\"some_path\", [1,2,3])"
   ]
  },
  {
   "cell_type": "code",
   "execution_count": null,
   "metadata": {},
   "outputs": [],
   "source": [
    "example_function(wi)"
   ]
  },
  {
   "cell_type": "markdown",
   "metadata": {},
   "source": [
    "The other benefit is that others can overload our methods, which can be very useful in some situations."
   ]
  },
  {
   "cell_type": "markdown",
   "metadata": {},
   "source": [
    "Making these changes and figuring out some abstract file index definition would have been very difficult at the start when I knew nothing about cfgrib, which is why the code is basically identical to the python version currenty. Now's the time to make this all more julia-like, which is where changes like the field access start coming in."
   ]
  }
 ],
 "metadata": {
  "kernelspec": {
   "display_name": "Julia 1.4.1",
   "language": "julia",
   "name": "julia-1.4"
  },
  "language_info": {
   "file_extension": ".jl",
   "mimetype": "application/julia",
   "name": "julia",
   "version": "1.4.1"
  }
 },
 "nbformat": 4,
 "nbformat_minor": 4
}
