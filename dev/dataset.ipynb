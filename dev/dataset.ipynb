{
 "cells": [
  {
   "cell_type": "code",
   "execution_count": 1,
   "metadata": {},
   "outputs": [
    {
     "name": "stdout",
     "output_type": "stream",
     "text": [
      "\u001b[32m\u001b[1mActivating\u001b[22m\u001b[39m environment at `~/work/cfgrib-project/cfgrib.jl/Project.toml`\n"
     ]
    }
   ],
   "source": [
    "using Pkg; Pkg.activate(\"/home/roscar/work/cfgrib-project/cfgrib.jl\")"
   ]
  },
  {
   "cell_type": "code",
   "execution_count": 2,
   "metadata": {},
   "outputs": [],
   "source": [
    "using GRIB"
   ]
  },
  {
   "cell_type": "code",
   "execution_count": 3,
   "metadata": {},
   "outputs": [
    {
     "data": {
      "text/plain": [
       "\"/home/roscar/work/cfgrib-project/cfgrib.jl/test/sample-data/era5-levels-members.grib\""
      ]
     },
     "execution_count": 3,
     "metadata": {},
     "output_type": "execute_result"
    }
   ],
   "source": [
    "grib_path = \"/home/roscar/work/cfgrib-project/cfgrib.jl/test/sample-data/era5-levels-members.grib\""
   ]
  },
  {
   "cell_type": "code",
   "execution_count": 4,
   "metadata": {},
   "outputs": [
    {
     "ename": "LoadError",
     "evalue": "syntax: invalid character literal",
     "output_type": "error",
     "traceback": [
      "syntax: invalid character literal",
      "",
      "Stacktrace:",
      " [1] top-level scope at /home/roscar/work/cfgrib-project/cfgrib.jl/src/dataset.jl:139",
      " [2] include at ./boot.jl:328 [inlined]",
      " [3] include_relative(::Module, ::String) at ./loading.jl:1105",
      " [4] include(::Module, ::String) at ./Base.jl:31",
      " [5] include(::String) at ./client.jl:424",
      " [6] top-level scope at In[4]:1"
     ]
    }
   ],
   "source": [
    "include(\"../src/dataset.jl\");\n",
    "\n",
    "length(ALL_KEYS)"
   ]
  },
  {
   "cell_type": "code",
   "execution_count": 5,
   "metadata": {},
   "outputs": [
    {
     "data": {
      "text/plain": [
       "GribFile /home/roscar/work/cfgrib-project/cfgrib.jl/test/sample-data/era5-levels-members.grib at position 0 in mode r"
      ]
     },
     "execution_count": 5,
     "metadata": {},
     "output_type": "execute_result"
    }
   ],
   "source": [
    "f = GribFile(grib_path)"
   ]
  },
  {
   "cell_type": "code",
   "execution_count": 6,
   "metadata": {},
   "outputs": [
    {
     "data": {
      "text/plain": [
       "date     gridType       stepRange typeOfLevel       level shortName name\n",
       "20170101 regular_ll     0         isobaricInhPa     500   z         Geopotential"
      ]
     },
     "execution_count": 6,
     "metadata": {},
     "output_type": "execute_result"
    }
   ],
   "source": [
    "msg = Message(f)"
   ]
  },
  {
   "cell_type": "code",
   "execution_count": 11,
   "metadata": {},
   "outputs": [
    {
     "name": "stdout",
     "output_type": "stream",
     "text": [
      "0.0\n",
      "\n",
      "\n",
      "14760.0\n",
      "\n",
      "\n",
      "29520.0\n",
      "\n",
      "\n",
      "44280.0\n",
      "\n",
      "\n",
      "59040.0\n",
      "\n",
      "\n",
      "73800.0\n",
      "\n",
      "\n",
      "88560.0\n",
      "\n",
      "\n",
      "103320.0\n",
      "\n",
      "\n",
      "118080.0\n",
      "\n",
      "\n",
      "132840.0\n",
      "\n",
      "\n"
     ]
    }
   ],
   "source": [
    "GribFile(grib_path) do f\n",
    "    c = 0\n",
    "    for message in f\n",
    "        c += 1\n",
    "#         for key in ALL_KEYS\n",
    "#             if key in keys(message)\n",
    "#                 println(\"$key - $(message[key])\")\n",
    "#             end\n",
    "#         end\n",
    "        println(message[\"offset\"])\n",
    "        println(\"\\n\")\n",
    "        if c >= 10\n",
    "            break\n",
    "        end\n",
    "    end\n",
    "end"
   ]
  },
  {
   "cell_type": "code",
   "execution_count": null,
   "metadata": {},
   "outputs": [],
   "source": [
    "function open_file_index(\n",
    "        path, grib_errors=\"warn\", indexpath=\"{path}.{short_hash}.idx\", index_keys=ALL_KEYS\n",
    "    )\n",
    "    stream = messages.FileStream(path, message_class=cfmessage.CfMessage, errors=grib_errors)\n",
    "    return stream.index(index_keys, indexpath=indexpath)\n",
    "end"
   ]
  },
  {
   "cell_type": "code",
   "execution_count": 46,
   "metadata": {},
   "outputs": [
    {
     "data": {
      "text/plain": [
       "open_file (generic function with 5 methods)"
      ]
     },
     "execution_count": 46,
     "metadata": {},
     "output_type": "execute_result"
    }
   ],
   "source": [
    "function open_file(\n",
    "                   path,\n",
    "                   grib_errors=\"warn\",\n",
    "                   indexpath=\"{path}.{short_hash}.idx\",\n",
    "                   filter_by_keys=Dict(),\n",
    "                   read_keys=[],\n",
    "                   )\n",
    "\n",
    "    index_keys = ALL_KEYS\n",
    "    index = open_fileindex(path, grib_errors, indexpath, index_keys)\n",
    "end"
   ]
  }
 ],
 "metadata": {
  "kernelspec": {
   "display_name": "Julia 1.3.1",
   "language": "julia",
   "name": "julia-1.3"
  },
  "language_info": {
   "file_extension": ".jl",
   "mimetype": "application/julia",
   "name": "julia",
   "version": "1.3.1"
  }
 },
 "nbformat": 4,
 "nbformat_minor": 4
}
