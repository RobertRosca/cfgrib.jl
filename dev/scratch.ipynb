{
 "cells": [
  {
   "cell_type": "code",
   "execution_count": 1,
   "metadata": {},
   "outputs": [
    {
     "name": "stdout",
     "output_type": "stream",
     "text": [
      "\u001b[32m\u001b[1mActivating\u001b[22m\u001b[39m environment at `~/work/cfgrib-project/cfgrib.jl/Project.toml`\n"
     ]
    }
   ],
   "source": [
    "using Pkg; Pkg.activate(\"/home/roscar/work/cfgrib-project/cfgrib.jl\")"
   ]
  },
  {
   "cell_type": "code",
   "execution_count": 2,
   "metadata": {},
   "outputs": [],
   "source": [
    "using DataStructures"
   ]
  },
  {
   "cell_type": "code",
   "execution_count": 3,
   "metadata": {},
   "outputs": [
    {
     "data": {
      "text/plain": [
       "2-element Array{String,1}:\n",
       " \"directionNumber\"\n",
       " \"frequencyNumber\""
      ]
     },
     "execution_count": 3,
     "metadata": {},
     "output_type": "execute_result"
    }
   ],
   "source": [
    "const GLOBAL_ATTRIBUTES_KEYS = [\"edition\", \"centre\", \"centreDescription\", \"subCentre\"]\n",
    "\n",
    "const DATA_ATTRIBUTES_KEYS = [\n",
    "    \"paramId\",\n",
    "    \"shortName\",\n",
    "    \"units\",\n",
    "    \"name\",\n",
    "    \"cfName\",\n",
    "    \"cfVarName\",\n",
    "    \"dataType\",\n",
    "    \"missingValue\",\n",
    "    \"numberOfPoints\",\n",
    "    \"totalNumber\",\n",
    "    \"numberOfDirections\",\n",
    "    \"numberOfFrequencies\",\n",
    "    \"typeOfLevel\",\n",
    "    \"NV\",\n",
    "    \"stepUnits\",\n",
    "    \"stepType\",\n",
    "    \"gridType\",\n",
    "    \"gridDefinitionDescription\",\n",
    "]\n",
    "\n",
    "const GRID_TYPE_MAP = Dict(\n",
    "    \"regular_ll\" => [\n",
    "        \"Nx\",\n",
    "        \"iDirectionIncrementInDegrees\",\n",
    "        \"iScansNegatively\",\n",
    "        \"longitudeOfFirstGridPointInDegrees\",\n",
    "        \"longitudeOfLastGridPointInDegrees\",\n",
    "        \"Ny\",\n",
    "        \"jDirectionIncrementInDegrees\",\n",
    "        \"jPointsAreConsecutive\",\n",
    "        \"jScansPositively\",\n",
    "        \"latitudeOfFirstGridPointInDegrees\",\n",
    "        \"latitudeOfLastGridPointInDegrees\",\n",
    "    ],\n",
    "    \"rotated_ll\" => [\n",
    "        \"Nx\",\n",
    "        \"Ny\",\n",
    "        \"angleOfRotationInDegrees\",\n",
    "        \"iDirectionIncrementInDegrees\",\n",
    "        \"iScansNegatively\",\n",
    "        \"jDirectionIncrementInDegrees\",\n",
    "        \"jPointsAreConsecutive\",\n",
    "        \"jScansPositively\",\n",
    "        \"latitudeOfFirstGridPointInDegrees\",\n",
    "        \"latitudeOfLastGridPointInDegrees\",\n",
    "        \"latitudeOfSouthernPoleInDegrees\",\n",
    "        \"longitudeOfFirstGridPointInDegrees\",\n",
    "        \"longitudeOfLastGridPointInDegrees\",\n",
    "        \"longitudeOfSouthernPoleInDegrees\",\n",
    "    ],\n",
    "    \"reduced_ll\" => [\n",
    "        \"Ny\",\n",
    "        \"jDirectionIncrementInDegrees\",\n",
    "        \"jPointsAreConsecutive\",\n",
    "        \"jScansPositively\",\n",
    "        \"latitudeOfFirstGridPointInDegrees\",\n",
    "        \"latitudeOfLastGridPointInDegrees\",\n",
    "    ],\n",
    "    \"regular_gg\" => [\n",
    "        \"Nx\",\n",
    "        \"iDirectionIncrementInDegrees\",\n",
    "        \"iScansNegatively\",\n",
    "        \"longitudeOfFirstGridPointInDegrees\",\n",
    "        \"longitudeOfLastGridPointInDegrees\",\n",
    "        \"N\",\n",
    "        \"Ny\",\n",
    "    ],\n",
    "    \"rotated_gg\" => [\n",
    "        \"Nx\",\n",
    "        \"Ny\",\n",
    "        \"angleOfRotationInDegrees\",\n",
    "        \"iDirectionIncrementInDegrees\",\n",
    "        \"iScansNegatively\",\n",
    "        \"jPointsAreConsecutive\",\n",
    "        \"jScansPositively\",\n",
    "        \"latitudeOfFirstGridPointInDegrees\",\n",
    "        \"latitudeOfLastGridPointInDegrees\",\n",
    "        \"latitudeOfSouthernPoleInDegrees\",\n",
    "        \"longitudeOfFirstGridPointInDegrees\",\n",
    "        \"longitudeOfLastGridPointInDegrees\",\n",
    "        \"longitudeOfSouthernPoleInDegrees\",\n",
    "        \"N\",\n",
    "    ],\n",
    "    \"lambert\" => [\n",
    "        \"LaDInDegrees\",\n",
    "        \"LoVInDegrees\",\n",
    "        \"iScansNegatively\",\n",
    "        \"jPointsAreConsecutive\",\n",
    "        \"jScansPositively\",\n",
    "        \"latitudeOfFirstGridPointInDegrees\",\n",
    "        \"latitudeOfSouthernPoleInDegrees\",\n",
    "        \"longitudeOfFirstGridPointInDegrees\",\n",
    "        \"longitudeOfSouthernPoleInDegrees\",\n",
    "        \"DyInMetres\",\n",
    "        \"DxInMetres\",\n",
    "        \"Latin2InDegrees\",\n",
    "        \"Latin1InDegrees\",\n",
    "        \"Ny\",\n",
    "        \"Nx\",\n",
    "    ],\n",
    "    \"reduced_gg\" => [\"N\", \"pl\"],\n",
    "    \"sh\" => [\"M\", \"K\", \"J\"],\n",
    ")\n",
    "const GRID_TYPE_KEYS = unique(vcat(values(GRID_TYPE_MAP)...))\n",
    "\n",
    "const ENSEMBLE_KEYS = [\"number\"]\n",
    "const VERTICAL_KEYS = [\"level\"]\n",
    "const DATA_TIME_KEYS = [\"dataDate\", \"dataTime\", \"endStep\"]\n",
    "const ALL_REF_TIME_KEYS = [\"time\", \"step\", \"valid_time\", \"verifying_time\", \"forecastMonth\"]\n",
    "const SPECTRA_KEYS = [\"directionNumber\", \"frequencyNumber\"]\n",
    "\n",
    "const ALL_HEADER_DIMS = vcat(ENSEMBLE_KEYS, VERTICAL_KEYS, DATA_TIME_KEYS, ALL_REF_TIME_KEYS, SPECTRA_KEYS)\n",
    "\n",
    "const ALL_KEYS = sort(unique(vcat(GLOBAL_ATTRIBUTES_KEYS, DATA_ATTRIBUTES_KEYS, GRID_TYPE_KEYS, ALL_HEADER_DIMS)))"
   ]
  },
  {
   "cell_type": "code",
   "execution_count": 4,
   "metadata": {},
   "outputs": [
    {
     "data": {
      "text/plain": [
       "12-element Array{String,1}:\n",
       " \"number\"         \n",
       " \"level\"          \n",
       " \"dataDate\"       \n",
       " \"dataTime\"       \n",
       " \"endStep\"        \n",
       " \"time\"           \n",
       " \"step\"           \n",
       " \"valid_time\"     \n",
       " \"verifying_time\" \n",
       " \"forecastMonth\"  \n",
       " \"directionNumber\"\n",
       " \"frequencyNumber\""
      ]
     },
     "execution_count": 4,
     "metadata": {},
     "output_type": "execute_result"
    }
   ],
   "source": [
    "ALL_HEADER_DIMS = vcat(ENSEMBLE_KEYS, VERTICAL_KEYS, DATA_TIME_KEYS, ALL_REF_TIME_KEYS, SPECTRA_KEYS)"
   ]
  },
  {
   "cell_type": "code",
   "execution_count": 5,
   "metadata": {},
   "outputs": [
    {
     "data": {
      "text/plain": [
       "59-element Array{String,1}:\n",
       " \"DxInMetres\"     \n",
       " \"DyInMetres\"     \n",
       " \"J\"              \n",
       " \"K\"              \n",
       " \"LaDInDegrees\"   \n",
       " \"Latin1InDegrees\"\n",
       " \"Latin2InDegrees\"\n",
       " \"LoVInDegrees\"   \n",
       " \"M\"              \n",
       " \"N\"              \n",
       " \"NV\"             \n",
       " \"Nx\"             \n",
       " \"Ny\"             \n",
       " ⋮                \n",
       " \"pl\"             \n",
       " \"shortName\"      \n",
       " \"step\"           \n",
       " \"stepType\"       \n",
       " \"stepUnits\"      \n",
       " \"subCentre\"      \n",
       " \"time\"           \n",
       " \"totalNumber\"    \n",
       " \"typeOfLevel\"    \n",
       " \"units\"          \n",
       " \"valid_time\"     \n",
       " \"verifying_time\" "
      ]
     },
     "execution_count": 5,
     "metadata": {},
     "output_type": "execute_result"
    }
   ],
   "source": [
    "sort(unique(vcat(GLOBAL_ATTRIBUTES_KEYS, DATA_ATTRIBUTES_KEYS, GRID_TYPE_KEYS, ALL_HEADER_DIMS)))"
   ]
  },
  {
   "cell_type": "code",
   "execution_count": 15,
   "metadata": {},
   "outputs": [
    {
     "data": {
      "text/plain": [
       "25-element Array{String,1}:\n",
       " \"Nx\"                                \n",
       " \"Ny\"                                \n",
       " \"angleOfRotationInDegrees\"          \n",
       " \"iDirectionIncrementInDegrees\"      \n",
       " \"iScansNegatively\"                  \n",
       " \"jPointsAreConsecutive\"             \n",
       " \"jScansPositively\"                  \n",
       " \"latitudeOfFirstGridPointInDegrees\" \n",
       " \"latitudeOfLastGridPointInDegrees\"  \n",
       " \"latitudeOfSouthernPoleInDegrees\"   \n",
       " \"longitudeOfFirstGridPointInDegrees\"\n",
       " \"longitudeOfLastGridPointInDegrees\" \n",
       " \"longitudeOfSouthernPoleInDegrees\"  \n",
       " \"N\"                                 \n",
       " \"M\"                                 \n",
       " \"K\"                                 \n",
       " \"J\"                                 \n",
       " \"jDirectionIncrementInDegrees\"      \n",
       " \"LaDInDegrees\"                      \n",
       " \"LoVInDegrees\"                      \n",
       " \"DyInMetres\"                        \n",
       " \"DxInMetres\"                        \n",
       " \"Latin2InDegrees\"                   \n",
       " \"Latin1InDegrees\"                   \n",
       " \"pl\"                                "
      ]
     },
     "execution_count": 15,
     "metadata": {},
     "output_type": "execute_result"
    }
   ],
   "source": [
    "vcat(values(GRID_TYPE_MAP)...) |> unique"
   ]
  },
  {
   "cell_type": "code",
   "execution_count": 9,
   "metadata": {},
   "outputs": [
    {
     "data": {
      "text/plain": [
       "1-element Array{NTuple{4,Array{String,1}},1}:\n",
       " ([\"edition\", \"centre\", \"centreDescription\", \"subCentre\"], [\"paramId\", \"shortName\", \"units\", \"name\", \"cfName\", \"cfVarName\", \"dataType\", \"missingValue\", \"numberOfPoints\", \"totalNumber\", \"numberOfDirections\", \"numberOfFrequencies\", \"typeOfLevel\", \"NV\", \"stepUnits\", \"stepType\", \"gridType\", \"gridDefinitionDescription\"], [\"Nx\", \"Ny\", \"angleOfRotationInDegrees\", \"iDirectionIncrementInDegrees\", \"iScansNegatively\", \"jPointsAreConsecutive\", \"jScansPositively\", \"latitudeOfFirstGridPointInDegrees\", \"latitudeOfLastGridPointInDegrees\", \"latitudeOfSouthernPoleInDegrees\"  …  \"K\", \"J\", \"jDirectionIncrementInDegrees\", \"LaDInDegrees\", \"LoVInDegrees\", \"DyInMetres\", \"DxInMetres\", \"Latin2InDegrees\", \"Latin1InDegrees\", \"pl\"], [\"number\", \"level\", \"dataDate\", \"dataTime\", \"endStep\", \"time\", \"step\", \"valid_time\", \"verifying_time\", \"forecastMonth\", \"directionNumber\", \"frequencyNumber\"])"
      ]
     },
     "execution_count": 9,
     "metadata": {},
     "output_type": "execute_result"
    }
   ],
   "source": [
    "vcat(GLOBAL_ATTRIBUTES_KEYS, DATA_ATTRIBUTES_KEYS, GRID_TYPE_KEYS, ALL_HEADER_DIMS) |> unique |> sort"
   ]
  }
 ],
 "metadata": {
  "kernelspec": {
   "display_name": "Julia 1.3.1",
   "language": "julia",
   "name": "julia-1.3"
  },
  "language_info": {
   "file_extension": ".jl",
   "mimetype": "application/julia",
   "name": "julia",
   "version": "1.3.1"
  }
 },
 "nbformat": 4,
 "nbformat_minor": 4
}
